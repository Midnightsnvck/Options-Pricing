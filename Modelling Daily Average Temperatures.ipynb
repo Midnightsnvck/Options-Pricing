{
 "cells": [
  {
   "cell_type": "markdown",
   "id": "7af2afaf-25a2-47b5-ac87-2a21b3f263cd",
   "metadata": {},
   "source": [
    "# Statisticsal Analysis of Temperature Data"
   ]
  },
  {
   "cell_type": "markdown",
   "id": "a5474700-e410-4197-9e74-8e670d401e68",
   "metadata": {},
   "source": [
    "# Modelling Daily Average Temperatures (DAT)\n",
    "## Modelling Seasonality\n",
    "We need to de-trend and remove seasonality:\n",
    "\n",
    "1. statsmodels decompose function classical decomposition using moving averages\n",
    "2. De-trend and model seasonal component as fourier series\n",
    "\n",
    "## Modelling Temperature\n",
    "For modelling temps we will look at using two different approaches\n",
    "\n",
    "3. Time Series ARMA model\n",
    "4. mean reverting Ornstein-Uhlenbeck process\n",
    "\n",
    "## Modelling Temperature Volatility\n",
    "We will also need to model temperature volatility\n",
    "\n",
    "5. Fourier series to model the volatility of temperature\n",
    "6. Parametric Regression - Polynomial\n",
    "7. Local and Nonparametric Regression - Splines\n",
    "8. piece-wise non-constant functions with each piece capturing volatility for each season\n",
    "\n",
    "## Pricing Temperature Options\n",
    "\n",
    "We can use the statistical analysis of historical temperature data and models to price options.\n",
    "\n",
    "We will quickly examine:\n",
    "\n",
    "9. Actuarial approach like historical 'burn' analyis\n",
    "10. Alternative Black Scholes approach with OU dynamics\n",
    "11. Monte Carlo - with Time Series model\n",
    "12. Monte Carlo - with OU model"
   ]
  },
  {
   "cell_type": "markdown",
   "id": "be55bf92-529e-4906-ae92-cee423c6ee64",
   "metadata": {},
   "source": [
    "https://www.ncei.noaa.gov/access/search/data-search/local-climatological-data-v2?bbox=44.481,-95.906,39.669,-91.094&pageNum=1&startDate=2000-01-01T00:00:00&endDate=2024-01-01T23:59:59\n",
    "\n",
    "Dataset Start to End:\n",
    "- Weather Station 1: 1-Jan 2000 - 1-Jan 2024\n",
    "\n",
    "Data available:\n",
    "- Maximum Temperature\n",
    "- Minimum Temperature"
   ]
  },
  {
   "cell_type": "code",
   "execution_count": 1,
   "id": "d3123cdc-a6be-467d-9b08-45be5081fb35",
   "metadata": {},
   "outputs": [],
   "source": [
    "import os\n",
    "import numpy as np\n",
    "import pandas as pd\n",
    "import datetime as dt\n",
    "import matplotlib.pyplot as plt"
   ]
  },
  {
   "cell_type": "code",
   "execution_count": 44,
   "id": "dd014ad9-7bc4-4b64-88c1-0503591455e3",
   "metadata": {},
   "outputs": [
    {
     "name": "stderr",
     "output_type": "stream",
     "text": [
      "<ipython-input-44-132f6babdf58>:1: DtypeWarning: Columns (62) have mixed types. Specify dtype option on import or set low_memory=False.\n",
      "  df_weather = pd.read_csv('iowaweather.csv')\n"
     ]
    },
    {
     "data": {
      "text/html": [
       "<div>\n",
       "<style scoped>\n",
       "    .dataframe tbody tr th:only-of-type {\n",
       "        vertical-align: middle;\n",
       "    }\n",
       "\n",
       "    .dataframe tbody tr th {\n",
       "        vertical-align: top;\n",
       "    }\n",
       "\n",
       "    .dataframe thead th {\n",
       "        text-align: right;\n",
       "    }\n",
       "</style>\n",
       "<table border=\"1\" class=\"dataframe\">\n",
       "  <thead>\n",
       "    <tr style=\"text-align: right;\">\n",
       "      <th></th>\n",
       "      <th>STATION</th>\n",
       "      <th>DATE</th>\n",
       "      <th>LATITUDE</th>\n",
       "      <th>LONGITUDE</th>\n",
       "      <th>ELEVATION</th>\n",
       "      <th>NAME</th>\n",
       "      <th>REPORT_TYPE</th>\n",
       "      <th>SOURCE</th>\n",
       "      <th>HourlyAltimeterSetting</th>\n",
       "      <th>HourlyDewPointTemperature</th>\n",
       "      <th>...</th>\n",
       "      <th>BackupDirection</th>\n",
       "      <th>BackupDistance</th>\n",
       "      <th>BackupDistanceUnit</th>\n",
       "      <th>BackupElements</th>\n",
       "      <th>BackupElevation</th>\n",
       "      <th>BackupEquipment</th>\n",
       "      <th>BackupLatitude</th>\n",
       "      <th>BackupLongitude</th>\n",
       "      <th>BackupName</th>\n",
       "      <th>WindEquipmentChangeDate</th>\n",
       "    </tr>\n",
       "  </thead>\n",
       "  <tbody>\n",
       "    <tr>\n",
       "      <th>12602</th>\n",
       "      <td>USW00014933</td>\n",
       "      <td>2006-12-31T20:55:00</td>\n",
       "      <td>41.5338</td>\n",
       "      <td>-93.653</td>\n",
       "      <td>291.7</td>\n",
       "      <td>DES MOINES INTERNATIONAL AIRPORT, IA US</td>\n",
       "      <td>FM-16</td>\n",
       "      <td>343.0</td>\n",
       "      <td>1009.5</td>\n",
       "      <td>-4.0</td>\n",
       "      <td>...</td>\n",
       "      <td>N</td>\n",
       "      <td>1</td>\n",
       "      <td>mi</td>\n",
       "      <td>ALL ELEMENTS</td>\n",
       "      <td>950</td>\n",
       "      <td>SRG, SNOWSTICK, SNOWBOARD</td>\n",
       "      <td>41.5414</td>\n",
       "      <td>-93.6556</td>\n",
       "      <td>FAA CONTRACT OBSERVER</td>\n",
       "      <td>10/20/2005</td>\n",
       "    </tr>\n",
       "    <tr>\n",
       "      <th>12603</th>\n",
       "      <td>USW00014933</td>\n",
       "      <td>2006-12-31T21:00:00</td>\n",
       "      <td>41.5338</td>\n",
       "      <td>-93.653</td>\n",
       "      <td>291.7</td>\n",
       "      <td>DES MOINES INTERNATIONAL AIRPORT, IA US</td>\n",
       "      <td>FM-15</td>\n",
       "      <td>223.0</td>\n",
       "      <td>1009.5</td>\n",
       "      <td>-4.0</td>\n",
       "      <td>...</td>\n",
       "      <td>N</td>\n",
       "      <td>1</td>\n",
       "      <td>mi</td>\n",
       "      <td>ALL ELEMENTS</td>\n",
       "      <td>950</td>\n",
       "      <td>SRG, SNOWSTICK, SNOWBOARD</td>\n",
       "      <td>41.5414</td>\n",
       "      <td>-93.6556</td>\n",
       "      <td>FAA CONTRACT OBSERVER</td>\n",
       "      <td>10/20/2005</td>\n",
       "    </tr>\n",
       "    <tr>\n",
       "      <th>12604</th>\n",
       "      <td>USW00014933</td>\n",
       "      <td>2006-12-31T21:54:00</td>\n",
       "      <td>41.5338</td>\n",
       "      <td>-93.653</td>\n",
       "      <td>291.7</td>\n",
       "      <td>DES MOINES INTERNATIONAL AIRPORT, IA US</td>\n",
       "      <td>FM-15</td>\n",
       "      <td>343.0</td>\n",
       "      <td>1010.2</td>\n",
       "      <td>-3.3</td>\n",
       "      <td>...</td>\n",
       "      <td>N</td>\n",
       "      <td>1</td>\n",
       "      <td>mi</td>\n",
       "      <td>ALL ELEMENTS</td>\n",
       "      <td>950</td>\n",
       "      <td>SRG, SNOWSTICK, SNOWBOARD</td>\n",
       "      <td>41.5414</td>\n",
       "      <td>-93.6556</td>\n",
       "      <td>FAA CONTRACT OBSERVER</td>\n",
       "      <td>10/20/2005</td>\n",
       "    </tr>\n",
       "    <tr>\n",
       "      <th>12605</th>\n",
       "      <td>USW00014933</td>\n",
       "      <td>2006-12-31T22:54:00</td>\n",
       "      <td>41.5338</td>\n",
       "      <td>-93.653</td>\n",
       "      <td>291.7</td>\n",
       "      <td>DES MOINES INTERNATIONAL AIRPORT, IA US</td>\n",
       "      <td>FM-15</td>\n",
       "      <td>343.0</td>\n",
       "      <td>1010.8</td>\n",
       "      <td>-3.3</td>\n",
       "      <td>...</td>\n",
       "      <td>N</td>\n",
       "      <td>1</td>\n",
       "      <td>mi</td>\n",
       "      <td>ALL ELEMENTS</td>\n",
       "      <td>950</td>\n",
       "      <td>SRG, SNOWSTICK, SNOWBOARD</td>\n",
       "      <td>41.5414</td>\n",
       "      <td>-93.6556</td>\n",
       "      <td>FAA CONTRACT OBSERVER</td>\n",
       "      <td>10/20/2005</td>\n",
       "    </tr>\n",
       "    <tr>\n",
       "      <th>12606</th>\n",
       "      <td>USW00014933</td>\n",
       "      <td>2006-12-31T23:54:00</td>\n",
       "      <td>41.5338</td>\n",
       "      <td>-93.653</td>\n",
       "      <td>291.7</td>\n",
       "      <td>DES MOINES INTERNATIONAL AIRPORT, IA US</td>\n",
       "      <td>FM-15</td>\n",
       "      <td>343.0</td>\n",
       "      <td>1011.5</td>\n",
       "      <td>-2.8</td>\n",
       "      <td>...</td>\n",
       "      <td>N</td>\n",
       "      <td>1</td>\n",
       "      <td>mi</td>\n",
       "      <td>ALL ELEMENTS</td>\n",
       "      <td>950</td>\n",
       "      <td>SRG, SNOWSTICK, SNOWBOARD</td>\n",
       "      <td>41.5414</td>\n",
       "      <td>-93.6556</td>\n",
       "      <td>FAA CONTRACT OBSERVER</td>\n",
       "      <td>10/20/2005</td>\n",
       "    </tr>\n",
       "  </tbody>\n",
       "</table>\n",
       "<p>5 rows × 125 columns</p>\n",
       "</div>"
      ],
      "text/plain": [
       "           STATION                 DATE  LATITUDE  LONGITUDE  ELEVATION  \\\n",
       "12602  USW00014933  2006-12-31T20:55:00   41.5338    -93.653      291.7   \n",
       "12603  USW00014933  2006-12-31T21:00:00   41.5338    -93.653      291.7   \n",
       "12604  USW00014933  2006-12-31T21:54:00   41.5338    -93.653      291.7   \n",
       "12605  USW00014933  2006-12-31T22:54:00   41.5338    -93.653      291.7   \n",
       "12606  USW00014933  2006-12-31T23:54:00   41.5338    -93.653      291.7   \n",
       "\n",
       "                                          NAME REPORT_TYPE  SOURCE  \\\n",
       "12602  DES MOINES INTERNATIONAL AIRPORT, IA US       FM-16   343.0   \n",
       "12603  DES MOINES INTERNATIONAL AIRPORT, IA US       FM-15   223.0   \n",
       "12604  DES MOINES INTERNATIONAL AIRPORT, IA US       FM-15   343.0   \n",
       "12605  DES MOINES INTERNATIONAL AIRPORT, IA US       FM-15   343.0   \n",
       "12606  DES MOINES INTERNATIONAL AIRPORT, IA US       FM-15   343.0   \n",
       "\n",
       "       HourlyAltimeterSetting  HourlyDewPointTemperature  ...  \\\n",
       "12602                  1009.5                       -4.0  ...   \n",
       "12603                  1009.5                       -4.0  ...   \n",
       "12604                  1010.2                       -3.3  ...   \n",
       "12605                  1010.8                       -3.3  ...   \n",
       "12606                  1011.5                       -2.8  ...   \n",
       "\n",
       "       BackupDirection BackupDistance BackupDistanceUnit  BackupElements  \\\n",
       "12602                N              1                 mi    ALL ELEMENTS   \n",
       "12603                N              1                 mi    ALL ELEMENTS   \n",
       "12604                N              1                 mi    ALL ELEMENTS   \n",
       "12605                N              1                 mi    ALL ELEMENTS   \n",
       "12606                N              1                 mi    ALL ELEMENTS   \n",
       "\n",
       "      BackupElevation            BackupEquipment BackupLatitude  \\\n",
       "12602             950  SRG, SNOWSTICK, SNOWBOARD        41.5414   \n",
       "12603             950  SRG, SNOWSTICK, SNOWBOARD        41.5414   \n",
       "12604             950  SRG, SNOWSTICK, SNOWBOARD        41.5414   \n",
       "12605             950  SRG, SNOWSTICK, SNOWBOARD        41.5414   \n",
       "12606             950  SRG, SNOWSTICK, SNOWBOARD        41.5414   \n",
       "\n",
       "       BackupLongitude             BackupName WindEquipmentChangeDate  \n",
       "12602         -93.6556  FAA CONTRACT OBSERVER              10/20/2005  \n",
       "12603         -93.6556  FAA CONTRACT OBSERVER              10/20/2005  \n",
       "12604         -93.6556  FAA CONTRACT OBSERVER              10/20/2005  \n",
       "12605         -93.6556  FAA CONTRACT OBSERVER              10/20/2005  \n",
       "12606         -93.6556  FAA CONTRACT OBSERVER              10/20/2005  \n",
       "\n",
       "[5 rows x 125 columns]"
      ]
     },
     "execution_count": 44,
     "metadata": {},
     "output_type": "execute_result"
    }
   ],
   "source": [
    "df_weather = pd.read_csv('iowaweather.csv')\n",
    "df_weather.tail()"
   ]
  },
  {
   "cell_type": "code",
   "execution_count": 45,
   "id": "70225ab7-754a-4b43-9238-590c42903e00",
   "metadata": {},
   "outputs": [
    {
     "data": {
      "text/html": [
       "<div>\n",
       "<style scoped>\n",
       "    .dataframe tbody tr th:only-of-type {\n",
       "        vertical-align: middle;\n",
       "    }\n",
       "\n",
       "    .dataframe tbody tr th {\n",
       "        vertical-align: top;\n",
       "    }\n",
       "\n",
       "    .dataframe thead th {\n",
       "        text-align: right;\n",
       "    }\n",
       "</style>\n",
       "<table border=\"1\" class=\"dataframe\">\n",
       "  <thead>\n",
       "    <tr style=\"text-align: right;\">\n",
       "      <th></th>\n",
       "      <th>Product code</th>\n",
       "      <th>Bureau of Meteorology station number</th>\n",
       "      <th>Year</th>\n",
       "      <th>Month</th>\n",
       "      <th>Day</th>\n",
       "      <th>Minimum temperature (Degree C)</th>\n",
       "      <th>Days of accumulation of minimum temperature</th>\n",
       "      <th>Quality</th>\n",
       "    </tr>\n",
       "  </thead>\n",
       "  <tbody>\n",
       "    <tr>\n",
       "      <th>59043</th>\n",
       "      <td>IDCJAC0011</td>\n",
       "      <td>66062</td>\n",
       "      <td>2020</td>\n",
       "      <td>8</td>\n",
       "      <td>27</td>\n",
       "      <td>6.8</td>\n",
       "      <td>1.0</td>\n",
       "      <td>Y</td>\n",
       "    </tr>\n",
       "    <tr>\n",
       "      <th>59044</th>\n",
       "      <td>IDCJAC0011</td>\n",
       "      <td>66062</td>\n",
       "      <td>2020</td>\n",
       "      <td>8</td>\n",
       "      <td>28</td>\n",
       "      <td>10.4</td>\n",
       "      <td>1.0</td>\n",
       "      <td>Y</td>\n",
       "    </tr>\n",
       "    <tr>\n",
       "      <th>59045</th>\n",
       "      <td>IDCJAC0011</td>\n",
       "      <td>66062</td>\n",
       "      <td>2020</td>\n",
       "      <td>8</td>\n",
       "      <td>29</td>\n",
       "      <td>7.9</td>\n",
       "      <td>1.0</td>\n",
       "      <td>Y</td>\n",
       "    </tr>\n",
       "    <tr>\n",
       "      <th>59046</th>\n",
       "      <td>IDCJAC0011</td>\n",
       "      <td>66062</td>\n",
       "      <td>2020</td>\n",
       "      <td>8</td>\n",
       "      <td>30</td>\n",
       "      <td>8.9</td>\n",
       "      <td>1.0</td>\n",
       "      <td>Y</td>\n",
       "    </tr>\n",
       "    <tr>\n",
       "      <th>59047</th>\n",
       "      <td>IDCJAC0011</td>\n",
       "      <td>66062</td>\n",
       "      <td>2020</td>\n",
       "      <td>8</td>\n",
       "      <td>31</td>\n",
       "      <td>12.7</td>\n",
       "      <td>1.0</td>\n",
       "      <td>Y</td>\n",
       "    </tr>\n",
       "  </tbody>\n",
       "</table>\n",
       "</div>"
      ],
      "text/plain": [
       "      Product code  Bureau of Meteorology station number  Year  Month  Day  \\\n",
       "59043   IDCJAC0011                                 66062  2020      8   27   \n",
       "59044   IDCJAC0011                                 66062  2020      8   28   \n",
       "59045   IDCJAC0011                                 66062  2020      8   29   \n",
       "59046   IDCJAC0011                                 66062  2020      8   30   \n",
       "59047   IDCJAC0011                                 66062  2020      8   31   \n",
       "\n",
       "       Minimum temperature (Degree C)  \\\n",
       "59043                             6.8   \n",
       "59044                            10.4   \n",
       "59045                             7.9   \n",
       "59046                             8.9   \n",
       "59047                            12.7   \n",
       "\n",
       "       Days of accumulation of minimum temperature Quality  \n",
       "59043                                          1.0       Y  \n",
       "59044                                          1.0       Y  \n",
       "59045                                          1.0       Y  \n",
       "59046                                          1.0       Y  \n",
       "59047                                          1.0       Y  "
      ]
     },
     "execution_count": 45,
     "metadata": {},
     "output_type": "execute_result"
    }
   ],
   "source": [
    "max_temp = pd.read_csv('maximum temp.csv')\n",
    "min_temp = pd.read_csv('minimum temp.csv')\n",
    "min_temp.tail()"
   ]
  },
  {
   "cell_type": "markdown",
   "id": "1724c900-9cb7-46b9-8095-2ce407f9d7fb",
   "metadata": {},
   "source": [
    "## Check for missing data"
   ]
  },
  {
   "cell_type": "code",
   "execution_count": 4,
   "id": "c816c734-4000-4a4a-b39a-ee5b29792aa1",
   "metadata": {},
   "outputs": [
    {
     "data": {
      "text/plain": [
       "(Product code  Bureau of Meteorology station number  Year   Month  Day    Maximum temperature (Degree C)  Days of accumulation of maximum temperature  Quality\n",
       " False         False                                 False  False  False  False                           False                                        False      58759\n",
       "                                                                          True                            True                                         True         150\n",
       "                                                                          False                           True                                         False        135\n",
       "                                                                          True                            False                                        True           2\n",
       "                                                                          False                           False                                        True           1\n",
       " Name: count, dtype: int64,\n",
       " Product code  Bureau of Meteorology station number  Year   Month  Day    Minimum temperature (Degree C)  Days of accumulation of minimum temperature  Quality\n",
       " False         False                                 False  False  False  False                           False                                        False      58761\n",
       "                                                                          True                            True                                         True         149\n",
       "                                                                          False                           True                                         False        135\n",
       "                                                                          True                            False                                        True           2\n",
       "                                                                          False                           False                                        True           1\n",
       " Name: count, dtype: int64)"
      ]
     },
     "execution_count": 4,
     "metadata": {},
     "output_type": "execute_result"
    }
   ],
   "source": [
    "max_temp.isnull().value_counts(),min_temp.isna().value_counts()"
   ]
  },
  {
   "cell_type": "code",
   "execution_count": 5,
   "id": "a35e06cf-b914-4d43-ab97-ad9ff7fcd896",
   "metadata": {},
   "outputs": [
    {
     "name": "stdout",
     "output_type": "stream",
     "text": [
      "Number of Misaligned Null Values:  35\n"
     ]
    }
   ],
   "source": [
    "# Are these the same days? If not will have to drop all rows (days) with at least value missing\n",
    "count = 0 \n",
    "for mx, mn in zip(np.where(max_temp.isnull())[0], np.where(min_temp.isnull())[0]):\n",
    "    if mx != mn:\n",
    "        count += 1\n",
    "\n",
    "print('Number of Misaligned Null Values: ', count)"
   ]
  },
  {
   "cell_type": "markdown",
   "id": "e0a7935b-f941-4fc5-9fb9-383793ec5ff9",
   "metadata": {},
   "source": [
    "### Here's a breakdown of the code's functionality:\n",
    "\n",
    "1. Initializing a Counter:\n",
    "\n",
    "    count = 0: This line initializes a variable named count to 0, which will be used to track the number of specific occurrences as the code iterates.\n",
    "\n",
    "2. Finding Null Indices:\n",
    "\n",
    "    np.where(max_temp.isnull())[0] and np.where(min_temp.isnull())[0]: These expressions use NumPy's where function to find the indices (positions) of null values (missing data) within the arrays max_temp and min_temp, respectively. The [0] part extracts only the indices from the result.\n",
    "\n",
    "3. Iterating and Counting:\n",
    "\n",
    "    for mx, mn in zip(...): This line initiates a for loop that iterates through pairs of indices (mx for max_temp and mn for min_temp) obtained from the previous step. The zip function pairs corresponding elements from the two lists of indices.\n",
    "if mx != mn:: This condition checks if the indices for null values in max_temp and min_temp at the current iteration are different.\n",
    "If they are different (mx != mn), the code executes count += 1, incrementing the count variable.\n",
    "\n",
    "### Overall Purpose:\n",
    "\n",
    "The code is designed to count the number of instances where null values occur at different positions within the max_temp and min_temp arrays. It specifically focuses on cases where the missing data points are not aligned in both arrays.\n",
    "It specifically targets cases where null values don't align in both arrays, providing insights into potential discrepancies in missing data patterns."
   ]
  },
  {
   "cell_type": "markdown",
   "id": "054d91f2-9340-40a8-bdad-36c35dc6d721",
   "metadata": {},
   "source": [
    "## Create cleaned max min temperature dataframe"
   ]
  },
  {
   "cell_type": "code",
   "execution_count": 6,
   "id": "d01843bb-c4a5-4564-9ea4-2eba9bfc1264",
   "metadata": {},
   "outputs": [],
   "source": [
    "def datetime(row):\n",
    "    return dt.datetime(row.Year,row.Month,row.Day)"
   ]
  },
  {
   "cell_type": "code",
   "execution_count": 7,
   "id": "7c0e7044-e8f7-4dc4-9ba8-5cb5883e33e3",
   "metadata": {},
   "outputs": [],
   "source": [
    "max_temp['Date'] = max_temp.apply(datetime,axis=1)\n",
    "min_temp['Date'] = min_temp.apply(datetime,axis=1)\n",
    "max_temp.set_index('Date', inplace=True)\n",
    "min_temp.set_index('Date', inplace=True)\n",
    "drop_cols = [0,1,2,3,4,6,7]\n",
    "max_temp.drop(max_temp.columns[drop_cols],axis=1,inplace=True)\n",
    "min_temp.drop(min_temp.columns[drop_cols],axis=1,inplace=True)\n",
    "max_temp.rename(columns={'Maximum temperature (Degree C)':'Tmax'}, inplace=True)\n",
    "min_temp.rename(columns={'Minimum temperature (Degree C)':'Tmin'}, inplace=True)"
   ]
  },
  {
   "cell_type": "code",
   "execution_count": 8,
   "id": "35c118f3-dba4-44db-8720-879fe3711c67",
   "metadata": {},
   "outputs": [
    {
     "data": {
      "text/html": [
       "<div>\n",
       "<style scoped>\n",
       "    .dataframe tbody tr th:only-of-type {\n",
       "        vertical-align: middle;\n",
       "    }\n",
       "\n",
       "    .dataframe tbody tr th {\n",
       "        vertical-align: top;\n",
       "    }\n",
       "\n",
       "    .dataframe thead th {\n",
       "        text-align: right;\n",
       "    }\n",
       "</style>\n",
       "<table border=\"1\" class=\"dataframe\">\n",
       "  <thead>\n",
       "    <tr style=\"text-align: right;\">\n",
       "      <th></th>\n",
       "      <th>Tmax</th>\n",
       "      <th>Tmin</th>\n",
       "      <th>T</th>\n",
       "    </tr>\n",
       "    <tr>\n",
       "      <th>Date</th>\n",
       "      <th></th>\n",
       "      <th></th>\n",
       "      <th></th>\n",
       "    </tr>\n",
       "  </thead>\n",
       "  <tbody>\n",
       "    <tr>\n",
       "      <th>1859-01-01</th>\n",
       "      <td>24.4</td>\n",
       "      <td>14.5</td>\n",
       "      <td>19.45</td>\n",
       "    </tr>\n",
       "    <tr>\n",
       "      <th>1859-01-02</th>\n",
       "      <td>24.4</td>\n",
       "      <td>15.7</td>\n",
       "      <td>20.05</td>\n",
       "    </tr>\n",
       "    <tr>\n",
       "      <th>1859-01-03</th>\n",
       "      <td>24.2</td>\n",
       "      <td>15.3</td>\n",
       "      <td>19.75</td>\n",
       "    </tr>\n",
       "    <tr>\n",
       "      <th>1859-01-04</th>\n",
       "      <td>24.7</td>\n",
       "      <td>17.4</td>\n",
       "      <td>21.05</td>\n",
       "    </tr>\n",
       "    <tr>\n",
       "      <th>1859-01-05</th>\n",
       "      <td>24.6</td>\n",
       "      <td>16.9</td>\n",
       "      <td>20.75</td>\n",
       "    </tr>\n",
       "    <tr>\n",
       "      <th>...</th>\n",
       "      <td>...</td>\n",
       "      <td>...</td>\n",
       "      <td>...</td>\n",
       "    </tr>\n",
       "    <tr>\n",
       "      <th>2020-08-26</th>\n",
       "      <td>19.6</td>\n",
       "      <td>6.8</td>\n",
       "      <td>13.20</td>\n",
       "    </tr>\n",
       "    <tr>\n",
       "      <th>2020-08-27</th>\n",
       "      <td>22.2</td>\n",
       "      <td>6.8</td>\n",
       "      <td>14.50</td>\n",
       "    </tr>\n",
       "    <tr>\n",
       "      <th>2020-08-28</th>\n",
       "      <td>19.7</td>\n",
       "      <td>10.4</td>\n",
       "      <td>15.05</td>\n",
       "    </tr>\n",
       "    <tr>\n",
       "      <th>2020-08-29</th>\n",
       "      <td>21.5</td>\n",
       "      <td>7.9</td>\n",
       "      <td>14.70</td>\n",
       "    </tr>\n",
       "    <tr>\n",
       "      <th>2020-08-30</th>\n",
       "      <td>25.3</td>\n",
       "      <td>8.9</td>\n",
       "      <td>17.10</td>\n",
       "    </tr>\n",
       "  </tbody>\n",
       "</table>\n",
       "<p>58889 rows × 3 columns</p>\n",
       "</div>"
      ],
      "text/plain": [
       "            Tmax  Tmin      T\n",
       "Date                         \n",
       "1859-01-01  24.4  14.5  19.45\n",
       "1859-01-02  24.4  15.7  20.05\n",
       "1859-01-03  24.2  15.3  19.75\n",
       "1859-01-04  24.7  17.4  21.05\n",
       "1859-01-05  24.6  16.9  20.75\n",
       "...          ...   ...    ...\n",
       "2020-08-26  19.6   6.8  13.20\n",
       "2020-08-27  22.2   6.8  14.50\n",
       "2020-08-28  19.7  10.4  15.05\n",
       "2020-08-29  21.5   7.9  14.70\n",
       "2020-08-30  25.3   8.9  17.10\n",
       "\n",
       "[58889 rows x 3 columns]"
      ]
     },
     "execution_count": 8,
     "metadata": {},
     "output_type": "execute_result"
    }
   ],
   "source": [
    "temps = max_temp.merge(min_temp,how='inner',left_on=['Date'],right_on=['Date'])\n",
    "\n",
    "def avg_temp(row):\n",
    "    return (row.Tmax+row.Tmin)/2\n",
    "\n",
    "temps['T'] = temps.apply(avg_temp,axis=1) # calculates the average temperature for each row in the temps DataFrame and stores the results in a new column named 'T'\n",
    "\n",
    "# drop na values here\n",
    "temps = temps.dropna()\n",
    "temps"
   ]
  },
  {
   "cell_type": "code",
   "execution_count": 9,
   "id": "314eb297-2bbc-4d47-ad3b-66065c7a364f",
   "metadata": {},
   "outputs": [
    {
     "data": {
      "text/html": [
       "<div>\n",
       "<style scoped>\n",
       "    .dataframe tbody tr th:only-of-type {\n",
       "        vertical-align: middle;\n",
       "    }\n",
       "\n",
       "    .dataframe tbody tr th {\n",
       "        vertical-align: top;\n",
       "    }\n",
       "\n",
       "    .dataframe thead th {\n",
       "        text-align: right;\n",
       "    }\n",
       "</style>\n",
       "<table border=\"1\" class=\"dataframe\">\n",
       "  <thead>\n",
       "    <tr style=\"text-align: right;\">\n",
       "      <th></th>\n",
       "      <th>Tmax</th>\n",
       "      <th>Tmin</th>\n",
       "      <th>T</th>\n",
       "    </tr>\n",
       "  </thead>\n",
       "  <tbody>\n",
       "    <tr>\n",
       "      <th>count</th>\n",
       "      <td>58889.000000</td>\n",
       "      <td>58889.000000</td>\n",
       "      <td>58889.000000</td>\n",
       "    </tr>\n",
       "    <tr>\n",
       "      <th>mean</th>\n",
       "      <td>21.745061</td>\n",
       "      <td>13.809998</td>\n",
       "      <td>17.777530</td>\n",
       "    </tr>\n",
       "    <tr>\n",
       "      <th>std</th>\n",
       "      <td>4.671522</td>\n",
       "      <td>4.442761</td>\n",
       "      <td>4.296441</td>\n",
       "    </tr>\n",
       "    <tr>\n",
       "      <th>min</th>\n",
       "      <td>7.700000</td>\n",
       "      <td>2.100000</td>\n",
       "      <td>6.400000</td>\n",
       "    </tr>\n",
       "    <tr>\n",
       "      <th>25%</th>\n",
       "      <td>18.200000</td>\n",
       "      <td>10.100000</td>\n",
       "      <td>14.200000</td>\n",
       "    </tr>\n",
       "    <tr>\n",
       "      <th>50%</th>\n",
       "      <td>21.600000</td>\n",
       "      <td>14.000000</td>\n",
       "      <td>17.900000</td>\n",
       "    </tr>\n",
       "    <tr>\n",
       "      <th>75%</th>\n",
       "      <td>24.900000</td>\n",
       "      <td>17.500000</td>\n",
       "      <td>21.100000</td>\n",
       "    </tr>\n",
       "    <tr>\n",
       "      <th>max</th>\n",
       "      <td>45.800000</td>\n",
       "      <td>27.600000</td>\n",
       "      <td>33.750000</td>\n",
       "    </tr>\n",
       "  </tbody>\n",
       "</table>\n",
       "</div>"
      ],
      "text/plain": [
       "               Tmax          Tmin             T\n",
       "count  58889.000000  58889.000000  58889.000000\n",
       "mean      21.745061     13.809998     17.777530\n",
       "std        4.671522      4.442761      4.296441\n",
       "min        7.700000      2.100000      6.400000\n",
       "25%       18.200000     10.100000     14.200000\n",
       "50%       21.600000     14.000000     17.900000\n",
       "75%       24.900000     17.500000     21.100000\n",
       "max       45.800000     27.600000     33.750000"
      ]
     },
     "execution_count": 9,
     "metadata": {},
     "output_type": "execute_result"
    }
   ],
   "source": [
    "temps.describe()"
   ]
  },
  {
   "cell_type": "markdown",
   "id": "06034764-78a7-4297-bf4b-f3ffe1cbfe2e",
   "metadata": {},
   "source": [
    "## Indicate winter and summer periods\n",
    "\n",
    "Australia:\n",
    "1. Winter ~ May-Oct\n",
    "2. Summer ~ Nov-Aor"
   ]
  },
  {
   "cell_type": "code",
   "execution_count": 10,
   "id": "55712b66-5aef-443b-9074-65d073473c9d",
   "metadata": {},
   "outputs": [
    {
     "data": {
      "text/html": [
       "<div>\n",
       "<style scoped>\n",
       "    .dataframe tbody tr th:only-of-type {\n",
       "        vertical-align: middle;\n",
       "    }\n",
       "\n",
       "    .dataframe tbody tr th {\n",
       "        vertical-align: top;\n",
       "    }\n",
       "\n",
       "    .dataframe thead th {\n",
       "        text-align: right;\n",
       "    }\n",
       "</style>\n",
       "<table border=\"1\" class=\"dataframe\">\n",
       "  <thead>\n",
       "    <tr style=\"text-align: right;\">\n",
       "      <th></th>\n",
       "      <th>Tmax</th>\n",
       "      <th>Tmin</th>\n",
       "      <th>T</th>\n",
       "      <th>month</th>\n",
       "      <th>winter</th>\n",
       "      <th>summer</th>\n",
       "    </tr>\n",
       "    <tr>\n",
       "      <th>Date</th>\n",
       "      <th></th>\n",
       "      <th></th>\n",
       "      <th></th>\n",
       "      <th></th>\n",
       "      <th></th>\n",
       "      <th></th>\n",
       "    </tr>\n",
       "  </thead>\n",
       "  <tbody>\n",
       "    <tr>\n",
       "      <th>1859-01-01</th>\n",
       "      <td>24.4</td>\n",
       "      <td>14.5</td>\n",
       "      <td>19.45</td>\n",
       "      <td>1</td>\n",
       "      <td>0</td>\n",
       "      <td>1</td>\n",
       "    </tr>\n",
       "    <tr>\n",
       "      <th>1859-01-02</th>\n",
       "      <td>24.4</td>\n",
       "      <td>15.7</td>\n",
       "      <td>20.05</td>\n",
       "      <td>1</td>\n",
       "      <td>0</td>\n",
       "      <td>1</td>\n",
       "    </tr>\n",
       "    <tr>\n",
       "      <th>1859-01-03</th>\n",
       "      <td>24.2</td>\n",
       "      <td>15.3</td>\n",
       "      <td>19.75</td>\n",
       "      <td>1</td>\n",
       "      <td>0</td>\n",
       "      <td>1</td>\n",
       "    </tr>\n",
       "    <tr>\n",
       "      <th>1859-01-04</th>\n",
       "      <td>24.7</td>\n",
       "      <td>17.4</td>\n",
       "      <td>21.05</td>\n",
       "      <td>1</td>\n",
       "      <td>0</td>\n",
       "      <td>1</td>\n",
       "    </tr>\n",
       "    <tr>\n",
       "      <th>1859-01-05</th>\n",
       "      <td>24.6</td>\n",
       "      <td>16.9</td>\n",
       "      <td>20.75</td>\n",
       "      <td>1</td>\n",
       "      <td>0</td>\n",
       "      <td>1</td>\n",
       "    </tr>\n",
       "    <tr>\n",
       "      <th>...</th>\n",
       "      <td>...</td>\n",
       "      <td>...</td>\n",
       "      <td>...</td>\n",
       "      <td>...</td>\n",
       "      <td>...</td>\n",
       "      <td>...</td>\n",
       "    </tr>\n",
       "    <tr>\n",
       "      <th>2020-08-26</th>\n",
       "      <td>19.6</td>\n",
       "      <td>6.8</td>\n",
       "      <td>13.20</td>\n",
       "      <td>8</td>\n",
       "      <td>1</td>\n",
       "      <td>0</td>\n",
       "    </tr>\n",
       "    <tr>\n",
       "      <th>2020-08-27</th>\n",
       "      <td>22.2</td>\n",
       "      <td>6.8</td>\n",
       "      <td>14.50</td>\n",
       "      <td>8</td>\n",
       "      <td>1</td>\n",
       "      <td>0</td>\n",
       "    </tr>\n",
       "    <tr>\n",
       "      <th>2020-08-28</th>\n",
       "      <td>19.7</td>\n",
       "      <td>10.4</td>\n",
       "      <td>15.05</td>\n",
       "      <td>8</td>\n",
       "      <td>1</td>\n",
       "      <td>0</td>\n",
       "    </tr>\n",
       "    <tr>\n",
       "      <th>2020-08-29</th>\n",
       "      <td>21.5</td>\n",
       "      <td>7.9</td>\n",
       "      <td>14.70</td>\n",
       "      <td>8</td>\n",
       "      <td>1</td>\n",
       "      <td>0</td>\n",
       "    </tr>\n",
       "    <tr>\n",
       "      <th>2020-08-30</th>\n",
       "      <td>25.3</td>\n",
       "      <td>8.9</td>\n",
       "      <td>17.10</td>\n",
       "      <td>8</td>\n",
       "      <td>1</td>\n",
       "      <td>0</td>\n",
       "    </tr>\n",
       "  </tbody>\n",
       "</table>\n",
       "<p>58889 rows × 6 columns</p>\n",
       "</div>"
      ],
      "text/plain": [
       "            Tmax  Tmin      T  month  winter  summer\n",
       "Date                                                \n",
       "1859-01-01  24.4  14.5  19.45      1       0       1\n",
       "1859-01-02  24.4  15.7  20.05      1       0       1\n",
       "1859-01-03  24.2  15.3  19.75      1       0       1\n",
       "1859-01-04  24.7  17.4  21.05      1       0       1\n",
       "1859-01-05  24.6  16.9  20.75      1       0       1\n",
       "...          ...   ...    ...    ...     ...     ...\n",
       "2020-08-26  19.6   6.8  13.20      8       1       0\n",
       "2020-08-27  22.2   6.8  14.50      8       1       0\n",
       "2020-08-28  19.7  10.4  15.05      8       1       0\n",
       "2020-08-29  21.5   7.9  14.70      8       1       0\n",
       "2020-08-30  25.3   8.9  17.10      8       1       0\n",
       "\n",
       "[58889 rows x 6 columns]"
      ]
     },
     "execution_count": 10,
     "metadata": {},
     "output_type": "execute_result"
    }
   ],
   "source": [
    "temps_season = temps.copy(deep=True)\n",
    "temps_season['month'] = temps_season.index.month\n",
    "mask = (temps_season['month'] >= 5) & (temps_season['month'] <= 10)\n",
    "temps_season['winter'] = np.where(mask,1,0)\n",
    "temps_season['summer'] = np.where(temps_season['winter'] != 1,1,0) # creates a binary indicator for the 'summer' season based on the values in the 'winter' column.\n",
    "temps_season"
   ]
  },
  {
   "cell_type": "markdown",
   "id": "42da1c95-cc1f-4056-a089-42a754772a2f",
   "metadata": {},
   "source": [
    "## Data Visualisation"
   ]
  },
  {
   "cell_type": "code",
   "execution_count": 11,
   "id": "d636ab7b-faf9-47ff-a491-32f28cf9ce89",
   "metadata": {},
   "outputs": [
    {
     "data": {
      "image/png": "[encoded data removed]",
      "text/plain": [
       "<Figure size 576x432 with 1 Axes>"
      ]
     },
     "metadata": {
      "needs_background": "light"
     },
     "output_type": "display_data"
    }
   ],
   "source": [
    "temps[:].plot(figsize=(8,6))\n",
    "plt.show()"
   ]
  },
  {
   "cell_type": "markdown",
   "id": "e522916d-b3fc-4fba-9d17-988a38348331",
   "metadata": {},
   "source": [
    "The expression temps[:] returns a copy of the entire temps array. Here's how it works:\n",
    "\n",
    "1. temps: This is the name of the array you want to copy.\n",
    "\n",
    "2. [:]: This is a slice that selects all elements from the array.\n",
    "\n",
    "The colon (:) on its own indicates that you want to select all elements from the start to the end of the array.\n",
    "In this case, it's equivalent to temps[0:len(temps)], which explicitly specifies the start and end indices.\n",
    "\n",
    "##### Points to Note:\n",
    "\n",
    "The [:] slice can be used with other Python data structures like lists and strings to select all elements.\n",
    "Assigning a slice to a variable creates a copy of the selected elements, not a reference to the original data."
   ]
  },
  {
   "cell_type": "code",
   "execution_count": 12,
   "id": "3e3cd13b-a42a-4cc2-8b4a-fc86ee6a785f",
   "metadata": {},
   "outputs": [
    {
     "data": {
      "image/png": "[encoded data removed]",
      "text/plain": [
       "<Figure size 576x432 with 1 Axes>"
      ]
     },
     "metadata": {
      "needs_background": "light"
     },
     "output_type": "display_data"
    }
   ],
   "source": [
    "# last 12 year period\n",
    "temps[-5000:].plot(figsize=(8,6)) #temps[-5000:]: This selects the last 5000 elements of the temps array using slicing\n",
    "plt.show()"
   ]
  },
  {
   "cell_type": "markdown",
   "id": "239d1755-66d5-4fc9-85ba-8665d14bc396",
   "metadata": {},
   "source": [
    "## Temperature distribution"
   ]
  },
  {
   "cell_type": "code",
   "execution_count": 13,
   "id": "0d132fe8-a605-4cf8-84c7-cd5c0ce5a215",
   "metadata": {},
   "outputs": [
    {
     "data": {
      "image/png": "[encoded data removed]",
      "text/plain": [
       "<Figure size 720x432 with 1 Axes>"
      ]
     },
     "metadata": {
      "needs_background": "light"
     },
     "output_type": "display_data"
    }
   ],
   "source": [
    "plt.figure(figsize=(10,6))\n",
    "temps.Tmax.hist(bins=60, alpha=0.7, label='Tmax')\n",
    "temps.Tmin.hist(bins=60, alpha=0.7, label='Tmin')\n",
    "temps['T'].hist(bins=60, alpha=0.8, label='T')\n",
    "plt.grid(False)\n",
    "plt.legend()\n",
    "plt.show()"
   ]
  },
  {
   "cell_type": "markdown",
   "id": "7bbcaf17-84d8-4270-a7a5-24580b43202f",
   "metadata": {},
   "source": [
    "## Bimodal Distribution"
   ]
  },
  {
   "cell_type": "code",
   "execution_count": 14,
   "id": "2e46998a-1023-4ee0-bb18-74bfe9592f76",
   "metadata": {},
   "outputs": [
    {
     "data": {
      "image/png": "[encoded data removed]",
      "text/plain": [
       "<Figure size 576x432 with 1 Axes>"
      ]
     },
     "metadata": {
      "needs_background": "light"
     },
     "output_type": "display_data"
    }
   ],
   "source": [
    "plt.figure(figsize=(8,6))\n",
    "temps_season[temps_season['summer'] == 1]['T'].hist(bins=60, alpha=0.8, label='summer')\n",
    "temps_season[temps_season['winter'] == 1]['T'].hist(bins=60, alpha=0.8, label='winter')\n",
    "plt.legend()\n",
    "plt.show()"
   ]
  },
  {
   "cell_type": "markdown",
   "id": "0adc8e67-61c2-4d1b-b1d3-99a3178724a7",
   "metadata": {},
   "source": [
    "## Temperature Records\n",
    "Compile list of min and max records for each month on record."
   ]
  },
  {
   "cell_type": "code",
   "execution_count": 15,
   "id": "e30dab6c-3980-443e-84e2-d2bd5d4d7346",
   "metadata": {},
   "outputs": [
    {
     "data": {
      "text/html": [
       "<div>\n",
       "<style scoped>\n",
       "    .dataframe tbody tr th:only-of-type {\n",
       "        vertical-align: middle;\n",
       "    }\n",
       "\n",
       "    .dataframe tbody tr th {\n",
       "        vertical-align: top;\n",
       "    }\n",
       "\n",
       "    .dataframe thead th {\n",
       "        text-align: right;\n",
       "    }\n",
       "</style>\n",
       "<table border=\"1\" class=\"dataframe\">\n",
       "  <thead>\n",
       "    <tr style=\"text-align: right;\">\n",
       "      <th></th>\n",
       "      <th>min</th>\n",
       "      <th>max</th>\n",
       "      <th>month</th>\n",
       "      <th>Tmax_max</th>\n",
       "      <th>Tmax_min</th>\n",
       "      <th>Tmin_max</th>\n",
       "      <th>Tmin_min</th>\n",
       "      <th>T_max</th>\n",
       "      <th>T_min</th>\n",
       "    </tr>\n",
       "  </thead>\n",
       "  <tbody>\n",
       "    <tr>\n",
       "      <th>1859-01-01</th>\n",
       "      <td>1859-01-01</td>\n",
       "      <td>1859-01-31</td>\n",
       "      <td>1</td>\n",
       "      <td>36.9</td>\n",
       "      <td>20.6</td>\n",
       "      <td>19.9</td>\n",
       "      <td>14.5</td>\n",
       "      <td>28.40</td>\n",
       "      <td>18.10</td>\n",
       "    </tr>\n",
       "    <tr>\n",
       "      <th>1859-02-01</th>\n",
       "      <td>1859-02-01</td>\n",
       "      <td>1859-02-28</td>\n",
       "      <td>2</td>\n",
       "      <td>35.6</td>\n",
       "      <td>19.9</td>\n",
       "      <td>20.0</td>\n",
       "      <td>13.3</td>\n",
       "      <td>26.95</td>\n",
       "      <td>17.25</td>\n",
       "    </tr>\n",
       "    <tr>\n",
       "      <th>1859-03-01</th>\n",
       "      <td>1859-03-01</td>\n",
       "      <td>1859-03-31</td>\n",
       "      <td>3</td>\n",
       "      <td>30.4</td>\n",
       "      <td>18.8</td>\n",
       "      <td>18.9</td>\n",
       "      <td>13.3</td>\n",
       "      <td>23.55</td>\n",
       "      <td>17.10</td>\n",
       "    </tr>\n",
       "    <tr>\n",
       "      <th>1859-04-01</th>\n",
       "      <td>1859-04-01</td>\n",
       "      <td>1859-04-30</td>\n",
       "      <td>4</td>\n",
       "      <td>31.1</td>\n",
       "      <td>16.8</td>\n",
       "      <td>17.7</td>\n",
       "      <td>7.8</td>\n",
       "      <td>22.45</td>\n",
       "      <td>13.25</td>\n",
       "    </tr>\n",
       "    <tr>\n",
       "      <th>1859-05-01</th>\n",
       "      <td>1859-05-01</td>\n",
       "      <td>1859-05-31</td>\n",
       "      <td>5</td>\n",
       "      <td>28.6</td>\n",
       "      <td>13.9</td>\n",
       "      <td>16.7</td>\n",
       "      <td>4.6</td>\n",
       "      <td>22.65</td>\n",
       "      <td>9.25</td>\n",
       "    </tr>\n",
       "    <tr>\n",
       "      <th>...</th>\n",
       "      <td>...</td>\n",
       "      <td>...</td>\n",
       "      <td>...</td>\n",
       "      <td>...</td>\n",
       "      <td>...</td>\n",
       "      <td>...</td>\n",
       "      <td>...</td>\n",
       "      <td>...</td>\n",
       "      <td>...</td>\n",
       "    </tr>\n",
       "    <tr>\n",
       "      <th>2020-04-01</th>\n",
       "      <td>2020-04-01</td>\n",
       "      <td>2020-04-30</td>\n",
       "      <td>4</td>\n",
       "      <td>29.2</td>\n",
       "      <td>19.6</td>\n",
       "      <td>20.2</td>\n",
       "      <td>11.3</td>\n",
       "      <td>22.95</td>\n",
       "      <td>16.40</td>\n",
       "    </tr>\n",
       "    <tr>\n",
       "      <th>2020-05-01</th>\n",
       "      <td>2020-05-01</td>\n",
       "      <td>2020-05-31</td>\n",
       "      <td>5</td>\n",
       "      <td>28.5</td>\n",
       "      <td>15.6</td>\n",
       "      <td>17.2</td>\n",
       "      <td>7.8</td>\n",
       "      <td>22.10</td>\n",
       "      <td>12.55</td>\n",
       "    </tr>\n",
       "    <tr>\n",
       "      <th>2020-06-01</th>\n",
       "      <td>2020-06-01</td>\n",
       "      <td>2020-06-30</td>\n",
       "      <td>6</td>\n",
       "      <td>22.6</td>\n",
       "      <td>15.1</td>\n",
       "      <td>14.5</td>\n",
       "      <td>7.2</td>\n",
       "      <td>18.55</td>\n",
       "      <td>11.55</td>\n",
       "    </tr>\n",
       "    <tr>\n",
       "      <th>2020-07-01</th>\n",
       "      <td>2020-07-01</td>\n",
       "      <td>2020-07-31</td>\n",
       "      <td>7</td>\n",
       "      <td>23.0</td>\n",
       "      <td>15.0</td>\n",
       "      <td>13.6</td>\n",
       "      <td>7.1</td>\n",
       "      <td>17.05</td>\n",
       "      <td>12.50</td>\n",
       "    </tr>\n",
       "    <tr>\n",
       "      <th>2020-08-01</th>\n",
       "      <td>2020-08-01</td>\n",
       "      <td>2020-08-30</td>\n",
       "      <td>8</td>\n",
       "      <td>25.3</td>\n",
       "      <td>13.6</td>\n",
       "      <td>12.6</td>\n",
       "      <td>6.3</td>\n",
       "      <td>17.10</td>\n",
       "      <td>11.40</td>\n",
       "    </tr>\n",
       "  </tbody>\n",
       "</table>\n",
       "<p>1940 rows × 9 columns</p>\n",
       "</div>"
      ],
      "text/plain": [
       "                  min        max  month  Tmax_max  Tmax_min  Tmin_max  \\\n",
       "1859-01-01 1859-01-01 1859-01-31      1      36.9      20.6      19.9   \n",
       "1859-02-01 1859-02-01 1859-02-28      2      35.6      19.9      20.0   \n",
       "1859-03-01 1859-03-01 1859-03-31      3      30.4      18.8      18.9   \n",
       "1859-04-01 1859-04-01 1859-04-30      4      31.1      16.8      17.7   \n",
       "1859-05-01 1859-05-01 1859-05-31      5      28.6      13.9      16.7   \n",
       "...               ...        ...    ...       ...       ...       ...   \n",
       "2020-04-01 2020-04-01 2020-04-30      4      29.2      19.6      20.2   \n",
       "2020-05-01 2020-05-01 2020-05-31      5      28.5      15.6      17.2   \n",
       "2020-06-01 2020-06-01 2020-06-30      6      22.6      15.1      14.5   \n",
       "2020-07-01 2020-07-01 2020-07-31      7      23.0      15.0      13.6   \n",
       "2020-08-01 2020-08-01 2020-08-30      8      25.3      13.6      12.6   \n",
       "\n",
       "            Tmin_min  T_max  T_min  \n",
       "1859-01-01      14.5  28.40  18.10  \n",
       "1859-02-01      13.3  26.95  17.25  \n",
       "1859-03-01      13.3  23.55  17.10  \n",
       "1859-04-01       7.8  22.45  13.25  \n",
       "1859-05-01       4.6  22.65   9.25  \n",
       "...              ...    ...    ...  \n",
       "2020-04-01      11.3  22.95  16.40  \n",
       "2020-05-01       7.8  22.10  12.55  \n",
       "2020-06-01       7.2  18.55  11.55  \n",
       "2020-07-01       7.1  17.05  12.50  \n",
       "2020-08-01       6.3  17.10  11.40  \n",
       "\n",
       "[1940 rows x 9 columns]"
      ]
     },
     "execution_count": 15,
     "metadata": {},
     "output_type": "execute_result"
    }
   ],
   "source": [
    "# can be done for whatever season you'd like\n",
    "date_list = temps.index.tolist()\n",
    "mth_temps = pd.DataFrame(data=date_list, index=date_list).resample('MS')[0].agg([min, max])\n",
    "mth_temps['month'] = mth_temps.index.month\n",
    "def min_max_temps(row):\n",
    "    stats = temps[(temps.index >= row['min']) & (temps.index <= row['max'])].agg([min, max])\n",
    "    row['Tmax_max'] = stats.loc['max', 'Tmax']\n",
    "    row['Tmax_min'] = stats.loc['min', 'Tmax']\n",
    "    row['Tmin_max'] = stats.loc['max', 'Tmin']\n",
    "    row['Tmin_min'] = stats.loc['min', 'Tmin']\n",
    "    row['T_max'] = stats.loc['max', 'T']\n",
    "    row['T_min'] = stats.loc['min', 'T']\n",
    "    return row\n",
    "\n",
    "mth_temps = mth_temps.apply(min_max_temps,axis=1)\n",
    "mth_temps\n"
   ]
  },
  {
   "cell_type": "markdown",
   "id": "75e198d5-89d1-46f1-a2fb-40976d981820",
   "metadata": {},
   "source": [
    "## Temperature Extreme's on record"
   ]
  },
  {
   "cell_type": "code",
   "execution_count": 16,
   "id": "7429e4a9-d3ec-4b8a-9998-5c0038b7c35a",
   "metadata": {},
   "outputs": [
    {
     "data": {
      "text/html": [
       "<div>\n",
       "<style scoped>\n",
       "    .dataframe tbody tr th:only-of-type {\n",
       "        vertical-align: middle;\n",
       "    }\n",
       "\n",
       "    .dataframe tbody tr th {\n",
       "        vertical-align: top;\n",
       "    }\n",
       "\n",
       "    .dataframe thead tr th {\n",
       "        text-align: left;\n",
       "    }\n",
       "\n",
       "    .dataframe thead tr:last-of-type th {\n",
       "        text-align: right;\n",
       "    }\n",
       "</style>\n",
       "<table border=\"1\" class=\"dataframe\">\n",
       "  <thead>\n",
       "    <tr>\n",
       "      <th></th>\n",
       "      <th>Tmax_max</th>\n",
       "      <th>Tmin_min</th>\n",
       "      <th>Tmax_min</th>\n",
       "      <th>Tmin_max</th>\n",
       "    </tr>\n",
       "    <tr>\n",
       "      <th></th>\n",
       "      <th>max</th>\n",
       "      <th>min</th>\n",
       "      <th>min</th>\n",
       "      <th>max</th>\n",
       "    </tr>\n",
       "    <tr>\n",
       "      <th>months</th>\n",
       "      <th></th>\n",
       "      <th></th>\n",
       "      <th></th>\n",
       "      <th></th>\n",
       "    </tr>\n",
       "  </thead>\n",
       "  <tbody>\n",
       "    <tr>\n",
       "      <th>Jan</th>\n",
       "      <td>45.8</td>\n",
       "      <td>10.6</td>\n",
       "      <td>17.2</td>\n",
       "      <td>26.2</td>\n",
       "    </tr>\n",
       "    <tr>\n",
       "      <th>Feb</th>\n",
       "      <td>42.1</td>\n",
       "      <td>9.6</td>\n",
       "      <td>15.6</td>\n",
       "      <td>27.6</td>\n",
       "    </tr>\n",
       "    <tr>\n",
       "      <th>Mar</th>\n",
       "      <td>39.8</td>\n",
       "      <td>9.3</td>\n",
       "      <td>16.2</td>\n",
       "      <td>25.4</td>\n",
       "    </tr>\n",
       "    <tr>\n",
       "      <th>Apr</th>\n",
       "      <td>35.4</td>\n",
       "      <td>7.0</td>\n",
       "      <td>13.8</td>\n",
       "      <td>24.3</td>\n",
       "    </tr>\n",
       "    <tr>\n",
       "      <th>May</th>\n",
       "      <td>30.0</td>\n",
       "      <td>4.4</td>\n",
       "      <td>11.3</td>\n",
       "      <td>20.8</td>\n",
       "    </tr>\n",
       "    <tr>\n",
       "      <th>Jun</th>\n",
       "      <td>26.9</td>\n",
       "      <td>2.1</td>\n",
       "      <td>9.7</td>\n",
       "      <td>18.4</td>\n",
       "    </tr>\n",
       "    <tr>\n",
       "      <th>Jul</th>\n",
       "      <td>26.5</td>\n",
       "      <td>2.2</td>\n",
       "      <td>7.7</td>\n",
       "      <td>18.1</td>\n",
       "    </tr>\n",
       "    <tr>\n",
       "      <th>Aug</th>\n",
       "      <td>31.3</td>\n",
       "      <td>2.7</td>\n",
       "      <td>9.1</td>\n",
       "      <td>19.7</td>\n",
       "    </tr>\n",
       "    <tr>\n",
       "      <th>Sep</th>\n",
       "      <td>34.6</td>\n",
       "      <td>4.9</td>\n",
       "      <td>9.5</td>\n",
       "      <td>23.0</td>\n",
       "    </tr>\n",
       "    <tr>\n",
       "      <th>Oct</th>\n",
       "      <td>38.2</td>\n",
       "      <td>5.7</td>\n",
       "      <td>12.1</td>\n",
       "      <td>25.6</td>\n",
       "    </tr>\n",
       "    <tr>\n",
       "      <th>Nov</th>\n",
       "      <td>41.8</td>\n",
       "      <td>7.7</td>\n",
       "      <td>12.6</td>\n",
       "      <td>24.8</td>\n",
       "    </tr>\n",
       "    <tr>\n",
       "      <th>Dec</th>\n",
       "      <td>42.2</td>\n",
       "      <td>9.1</td>\n",
       "      <td>15.2</td>\n",
       "      <td>27.1</td>\n",
       "    </tr>\n",
       "  </tbody>\n",
       "</table>\n",
       "</div>"
      ],
      "text/plain": [
       "       Tmax_max Tmin_min Tmax_min Tmin_max\n",
       "            max      min      min      max\n",
       "months                                    \n",
       "Jan        45.8     10.6     17.2     26.2\n",
       "Feb        42.1      9.6     15.6     27.6\n",
       "Mar        39.8      9.3     16.2     25.4\n",
       "Apr        35.4      7.0     13.8     24.3\n",
       "May        30.0      4.4     11.3     20.8\n",
       "Jun        26.9      2.1      9.7     18.4\n",
       "Jul        26.5      2.2      7.7     18.1\n",
       "Aug        31.3      2.7      9.1     19.7\n",
       "Sep        34.6      4.9      9.5     23.0\n",
       "Oct        38.2      5.7     12.1     25.6\n",
       "Nov        41.8      7.7     12.6     24.8\n",
       "Dec        42.2      9.1     15.2     27.1"
      ]
     },
     "execution_count": 16,
     "metadata": {},
     "output_type": "execute_result"
    }
   ],
   "source": [
    "grouped_mths = mth_temps.groupby(mth_temps.month)[['Tmax_max', 'Tmax_min', 'Tmin_max', 'Tmin_min','T_max','T_min']].agg([min, max])\n",
    "grouped_mths['months'] = ['Jan','Feb','Mar','Apr','May','Jun','Jul','Aug','Sep','Oct','Nov','Dec']\n",
    "grouped_mths = grouped_mths.set_index('months')\n",
    "grouped_mths[[('Tmax_max', 'max'),('Tmin_min', 'min'),('Tmax_min', 'min'),('Tmin_max', 'max')]]"
   ]
  },
  {
   "cell_type": "code",
   "execution_count": 17,
   "id": "9692be89-cf4f-4b5b-8dce-c9a01f7697a6",
   "metadata": {},
   "outputs": [
    {
     "data": {
      "text/html": [
       "<div>\n",
       "<style scoped>\n",
       "    .dataframe tbody tr th:only-of-type {\n",
       "        vertical-align: middle;\n",
       "    }\n",
       "\n",
       "    .dataframe tbody tr th {\n",
       "        vertical-align: top;\n",
       "    }\n",
       "\n",
       "    .dataframe thead tr th {\n",
       "        text-align: left;\n",
       "    }\n",
       "\n",
       "    .dataframe thead tr:last-of-type th {\n",
       "        text-align: right;\n",
       "    }\n",
       "</style>\n",
       "<table border=\"1\" class=\"dataframe\">\n",
       "  <thead>\n",
       "    <tr>\n",
       "      <th></th>\n",
       "      <th colspan=\"2\" halign=\"left\">T_max</th>\n",
       "      <th colspan=\"2\" halign=\"left\">T_min</th>\n",
       "    </tr>\n",
       "    <tr>\n",
       "      <th></th>\n",
       "      <th>max</th>\n",
       "      <th>min</th>\n",
       "      <th>max</th>\n",
       "      <th>min</th>\n",
       "    </tr>\n",
       "    <tr>\n",
       "      <th>months</th>\n",
       "      <th></th>\n",
       "      <th></th>\n",
       "      <th></th>\n",
       "      <th></th>\n",
       "    </tr>\n",
       "  </thead>\n",
       "  <tbody>\n",
       "    <tr>\n",
       "      <th>Jan</th>\n",
       "      <td>33.75</td>\n",
       "      <td>22.75</td>\n",
       "      <td>21.95</td>\n",
       "      <td>15.05</td>\n",
       "    </tr>\n",
       "    <tr>\n",
       "      <th>Feb</th>\n",
       "      <td>33.10</td>\n",
       "      <td>23.20</td>\n",
       "      <td>21.95</td>\n",
       "      <td>12.60</td>\n",
       "    </tr>\n",
       "    <tr>\n",
       "      <th>Mar</th>\n",
       "      <td>31.75</td>\n",
       "      <td>22.15</td>\n",
       "      <td>20.65</td>\n",
       "      <td>13.10</td>\n",
       "    </tr>\n",
       "    <tr>\n",
       "      <th>Apr</th>\n",
       "      <td>29.10</td>\n",
       "      <td>19.45</td>\n",
       "      <td>18.20</td>\n",
       "      <td>11.20</td>\n",
       "    </tr>\n",
       "    <tr>\n",
       "      <th>May</th>\n",
       "      <td>24.55</td>\n",
       "      <td>16.20</td>\n",
       "      <td>14.95</td>\n",
       "      <td>9.20</td>\n",
       "    </tr>\n",
       "    <tr>\n",
       "      <th>Jun</th>\n",
       "      <td>21.60</td>\n",
       "      <td>13.25</td>\n",
       "      <td>12.90</td>\n",
       "      <td>7.80</td>\n",
       "    </tr>\n",
       "    <tr>\n",
       "      <th>Jul</th>\n",
       "      <td>20.90</td>\n",
       "      <td>12.35</td>\n",
       "      <td>12.50</td>\n",
       "      <td>6.40</td>\n",
       "    </tr>\n",
       "    <tr>\n",
       "      <th>Aug</th>\n",
       "      <td>25.05</td>\n",
       "      <td>14.45</td>\n",
       "      <td>12.45</td>\n",
       "      <td>7.30</td>\n",
       "    </tr>\n",
       "    <tr>\n",
       "      <th>Sep</th>\n",
       "      <td>26.90</td>\n",
       "      <td>17.25</td>\n",
       "      <td>15.25</td>\n",
       "      <td>7.85</td>\n",
       "    </tr>\n",
       "    <tr>\n",
       "      <th>Oct</th>\n",
       "      <td>30.55</td>\n",
       "      <td>19.05</td>\n",
       "      <td>17.50</td>\n",
       "      <td>9.90</td>\n",
       "    </tr>\n",
       "    <tr>\n",
       "      <th>Nov</th>\n",
       "      <td>32.25</td>\n",
       "      <td>20.40</td>\n",
       "      <td>18.35</td>\n",
       "      <td>12.45</td>\n",
       "    </tr>\n",
       "    <tr>\n",
       "      <th>Dec</th>\n",
       "      <td>32.60</td>\n",
       "      <td>22.05</td>\n",
       "      <td>20.40</td>\n",
       "      <td>14.00</td>\n",
       "    </tr>\n",
       "  </tbody>\n",
       "</table>\n",
       "</div>"
      ],
      "text/plain": [
       "        T_max         T_min       \n",
       "          max    min    max    min\n",
       "months                            \n",
       "Jan     33.75  22.75  21.95  15.05\n",
       "Feb     33.10  23.20  21.95  12.60\n",
       "Mar     31.75  22.15  20.65  13.10\n",
       "Apr     29.10  19.45  18.20  11.20\n",
       "May     24.55  16.20  14.95   9.20\n",
       "Jun     21.60  13.25  12.90   7.80\n",
       "Jul     20.90  12.35  12.50   6.40\n",
       "Aug     25.05  14.45  12.45   7.30\n",
       "Sep     26.90  17.25  15.25   7.85\n",
       "Oct     30.55  19.05  17.50   9.90\n",
       "Nov     32.25  20.40  18.35  12.45\n",
       "Dec     32.60  22.05  20.40  14.00"
      ]
     },
     "execution_count": 17,
     "metadata": {},
     "output_type": "execute_result"
    }
   ],
   "source": [
    "grouped_mths[[('T_max', 'max'),('T_max', 'min'),('T_min', 'max'),('T_min', 'min')]]"
   ]
  },
  {
   "cell_type": "markdown",
   "id": "903881e9-c837-4665-b1c0-a8dbf04d8d22",
   "metadata": {},
   "source": [
    "Code 1 is like searching for the maximum and minimum number of pages within each genre category.\n",
    "Code 2 is like searching for the maximum and minimum number of pages for all books (assuming they were previously categorized by genre and then renamed to just \"books\").\n",
    "- selects the maximum and minimum values of the renamed columns (T_max and T_min) for each month group."
   ]
  },
  {
   "cell_type": "markdown",
   "id": "a8f29b68-bd86-4323-a1a3-4cbc3f35fc7a",
   "metadata": {},
   "source": [
    "# Decompose Time-Series Components\n",
    "Time series decomposition is a technique that splits a time series into several components, each representing an underlying pattern category, trend, seasonality, and noise.\n",
    "\n",
    "1. Trend: decreasing, constant, or increasing over time?\n",
    "2. Seasonality: what is the periodic signal?\n",
    "3. Noise: variability in the data that cannot be explained by the model\n",
    "\n",
    "This is a naive decomposition - classical decomposition. More sophisticated methods should be preferred."
   ]
  },
  {
   "cell_type": "code",
   "execution_count": 18,
   "id": "77c65144-18af-4041-b593-dc4fa71de237",
   "metadata": {},
   "outputs": [],
   "source": [
    "from statsmodels.graphics.api import qqplot\n",
    "from statsmodels.tsa.stattools import adfuller\n",
    "from statsmodels.tsa.seasonal import seasonal_decompose\n",
    "from statsmodels.graphics.tsaplots import plot_acf, plot_pacf\n",
    "from statsmodels.tsa.ar_model import AutoReg, ar_select_order, AutoRegResults"
   ]
  },
  {
   "cell_type": "code",
   "execution_count": 19,
   "id": "7d293c0e-e18f-4564-9fdb-91642816ab75",
   "metadata": {},
   "outputs": [
    {
     "data": {
      "text/html": [
       "<div>\n",
       "<style scoped>\n",
       "    .dataframe tbody tr th:only-of-type {\n",
       "        vertical-align: middle;\n",
       "    }\n",
       "\n",
       "    .dataframe tbody tr th {\n",
       "        vertical-align: top;\n",
       "    }\n",
       "\n",
       "    .dataframe thead th {\n",
       "        text-align: right;\n",
       "    }\n",
       "</style>\n",
       "<table border=\"1\" class=\"dataframe\">\n",
       "  <thead>\n",
       "    <tr style=\"text-align: right;\">\n",
       "      <th></th>\n",
       "      <th>Tmax</th>\n",
       "      <th>Tmin</th>\n",
       "      <th>T</th>\n",
       "    </tr>\n",
       "    <tr>\n",
       "      <th>Date</th>\n",
       "      <th></th>\n",
       "      <th></th>\n",
       "      <th></th>\n",
       "    </tr>\n",
       "  </thead>\n",
       "  <tbody>\n",
       "    <tr>\n",
       "      <th>1859-01-01</th>\n",
       "      <td>24.4</td>\n",
       "      <td>14.5</td>\n",
       "      <td>19.45</td>\n",
       "    </tr>\n",
       "    <tr>\n",
       "      <th>1859-01-02</th>\n",
       "      <td>24.4</td>\n",
       "      <td>15.7</td>\n",
       "      <td>20.05</td>\n",
       "    </tr>\n",
       "    <tr>\n",
       "      <th>1859-01-03</th>\n",
       "      <td>24.2</td>\n",
       "      <td>15.3</td>\n",
       "      <td>19.75</td>\n",
       "    </tr>\n",
       "    <tr>\n",
       "      <th>1859-01-04</th>\n",
       "      <td>24.7</td>\n",
       "      <td>17.4</td>\n",
       "      <td>21.05</td>\n",
       "    </tr>\n",
       "    <tr>\n",
       "      <th>1859-01-05</th>\n",
       "      <td>24.6</td>\n",
       "      <td>16.9</td>\n",
       "      <td>20.75</td>\n",
       "    </tr>\n",
       "    <tr>\n",
       "      <th>...</th>\n",
       "      <td>...</td>\n",
       "      <td>...</td>\n",
       "      <td>...</td>\n",
       "    </tr>\n",
       "    <tr>\n",
       "      <th>2020-08-26</th>\n",
       "      <td>19.6</td>\n",
       "      <td>6.8</td>\n",
       "      <td>13.20</td>\n",
       "    </tr>\n",
       "    <tr>\n",
       "      <th>2020-08-27</th>\n",
       "      <td>22.2</td>\n",
       "      <td>6.8</td>\n",
       "      <td>14.50</td>\n",
       "    </tr>\n",
       "    <tr>\n",
       "      <th>2020-08-28</th>\n",
       "      <td>19.7</td>\n",
       "      <td>10.4</td>\n",
       "      <td>15.05</td>\n",
       "    </tr>\n",
       "    <tr>\n",
       "      <th>2020-08-29</th>\n",
       "      <td>21.5</td>\n",
       "      <td>7.9</td>\n",
       "      <td>14.70</td>\n",
       "    </tr>\n",
       "    <tr>\n",
       "      <th>2020-08-30</th>\n",
       "      <td>25.3</td>\n",
       "      <td>8.9</td>\n",
       "      <td>17.10</td>\n",
       "    </tr>\n",
       "  </tbody>\n",
       "</table>\n",
       "<p>58889 rows × 3 columns</p>\n",
       "</div>"
      ],
      "text/plain": [
       "            Tmax  Tmin      T\n",
       "Date                         \n",
       "1859-01-01  24.4  14.5  19.45\n",
       "1859-01-02  24.4  15.7  20.05\n",
       "1859-01-03  24.2  15.3  19.75\n",
       "1859-01-04  24.7  17.4  21.05\n",
       "1859-01-05  24.6  16.9  20.75\n",
       "...          ...   ...    ...\n",
       "2020-08-26  19.6   6.8  13.20\n",
       "2020-08-27  22.2   6.8  14.50\n",
       "2020-08-28  19.7  10.4  15.05\n",
       "2020-08-29  21.5   7.9  14.70\n",
       "2020-08-30  25.3   8.9  17.10\n",
       "\n",
       "[58889 rows x 3 columns]"
      ]
     },
     "execution_count": 19,
     "metadata": {},
     "output_type": "execute_result"
    }
   ],
   "source": [
    "temps.sort_index(inplace=True)\n",
    "temps"
   ]
  },
  {
   "cell_type": "markdown",
   "id": "0149a4ec-762d-421d-a155-152decc76730",
   "metadata": {},
   "source": [
    "## Clear upward trend in temperature over time"
   ]
  },
  {
   "cell_type": "code",
   "execution_count": 20,
   "id": "d77456e9-5e11-4eae-9ac6-a4ba850d2fdd",
   "metadata": {},
   "outputs": [
    {
     "data": {
      "text/plain": [
       "<AxesSubplot:title={'center':'Rolling mean over annual periods'}, xlabel='Date'>"
      ]
     },
     "execution_count": 20,
     "metadata": {},
     "output_type": "execute_result"
    },
    {
     "data": {
      "image/png": "[encoded data removed]",
      "text/plain": [
       "<Figure size 576x288 with 1 Axes>"
      ]
     },
     "metadata": {
      "needs_background": "light"
     },
     "output_type": "display_data"
    }
   ],
   "source": [
    "temps['T'].rolling(window = 365*10).mean().plot(figsize=(8,4), color=\"tab:red\", title=\"Rolling mean over annual periods\")"
   ]
  },
  {
   "cell_type": "code",
   "execution_count": 27,
   "id": "7a30e338-5c82-4015-9f0a-8544da5dee03",
   "metadata": {},
   "outputs": [
    {
     "data": {
      "image/png": "[encoded data removed]",
      "text/plain": [
       "<Figure size 576x288 with 1 Axes>"
      ]
     },
     "metadata": {
      "needs_background": "light"
     },
     "output_type": "display_data"
    }
   ],
   "source": [
    "temps['T'].rolling(window = 365*10).var().plot(figsize=(8,4), color=\"tab:red\", title=\"Rolling variance over annual periods\")\n",
    "plt.show()"
   ]
  },
  {
   "cell_type": "markdown",
   "id": "9a7abe79-ba6c-4bf5-b491-1c2c6ff68c1f",
   "metadata": {},
   "source": [
    "## Use seasonal_decompose function"
   ]
  },
  {
   "cell_type": "code",
   "execution_count": 28,
   "id": "1c4ff1d3-816e-4a84-99c1-31d78da14a4b",
   "metadata": {},
   "outputs": [
    {
     "data": {
      "image/png": "[encoded data removed]",
      "text/plain": [
       "<Figure size 432x288 with 4 Axes>"
      ]
     },
     "metadata": {
      "needs_background": "light"
     },
     "output_type": "display_data"
    }
   ],
   "source": [
    "decompose_result = seasonal_decompose(temps['T'], model='additive', period=int(365*10), extrapolate_trend='freq')\n",
    "\n",
    "trend = decompose_result.trend\n",
    "seasonal = decompose_result.seasonal\n",
    "residual = decompose_result.resid\n",
    "\n",
    "decompose_result.plot()\n",
    "plt.show()"
   ]
  },
  {
   "cell_type": "markdown",
   "id": "1aab526a-416f-4ac6-b201-13c587de16d1",
   "metadata": {},
   "source": [
    "## Visualise 10 years\n",
    "two-sided moving average is done in two parts; first being the first 5 years and the second being the last 5 years. In turn, there is no real moving average term calculated in those last periods.\n",
    "This is one of the downsides to classical de-composition. We can extrapolate projected trajectory by setting the moving average to the frequency"
   ]
  },
  {
   "cell_type": "code",
   "execution_count": 29,
   "id": "a7c074eb-cf74-4d9c-b023-69bf154e4fd9",
   "metadata": {},
   "outputs": [
    {
     "data": {
      "text/plain": [
       "(-15.0, 15.0)"
      ]
     },
     "execution_count": 29,
     "metadata": {},
     "output_type": "execute_result"
    },
    {
     "data": {
      "image/png": "[encoded data removed]",
      "text/plain": [
       "<Figure size 576x432 with 3 Axes>"
      ]
     },
     "metadata": {
      "needs_background": "light"
     },
     "output_type": "display_data"
    }
   ],
   "source": [
    "years_examine = 365*10\n",
    "fig, axs = plt.subplots(3, figsize=(8,6))\n",
    "fig.suptitle('Removed Trend and Seasonality')\n",
    "axs[0].plot(trend[-years_examine:])\n",
    "axs[1].plot(seasonal[-years_examine:])\n",
    "axs[1].set_ylim([-10,10])\n",
    "axs[2].plot(residual[-years_examine:])\n",
    "axs[2].set_ylim([-15,15])"
   ]
  },
  {
   "cell_type": "markdown",
   "id": "2ff6cb1c-af60-4484-a522-c3dc99e49128",
   "metadata": {},
   "source": [
    "## Check residual distribution"
   ]
  },
  {
   "cell_type": "code",
   "execution_count": 30,
   "id": "c0f16ddb-2dfa-4b16-a58c-e6a475b512a1",
   "metadata": {},
   "outputs": [
    {
     "data": {
      "text/plain": [
       "<AxesSubplot:>"
      ]
     },
     "execution_count": 30,
     "metadata": {},
     "output_type": "execute_result"
    },
    {
     "data": {
      "image/png": "[encoded data removed]",
      "text/plain": [
       "<Figure size 576x432 with 1 Axes>"
      ]
     },
     "metadata": {
      "needs_background": "light"
     },
     "output_type": "display_data"
    }
   ],
   "source": [
    "residual.hist(bins=60, figsize=(8,6))"
   ]
  },
  {
   "cell_type": "markdown",
   "id": "7670d52f-f37b-4b47-9df1-3820d3131ecf",
   "metadata": {},
   "source": [
    "## Testing for Stationarity with Dicky-Fuller\n",
    "Below we'll test the stationarity of our time-series with this functionality and try to interpret its results to better understand it.\n",
    "\n",
    "Unit Root Test, null hypothesis is that unit root exists.\n",
    "\n",
    "In probability theory and statistics, a unit root is a feature of some stochastic processes (such as random walks) that can cause problems in statistical inference involving time series models. A linear stochastic process has a unit root if 1 is a root of the process's characteristic equation."
   ]
  },
  {
   "cell_type": "code",
   "execution_count": 33,
   "id": "e30085ad-c3a7-4495-a6b5-2d84bed4c359",
   "metadata": {},
   "outputs": [
    {
     "name": "stdout",
     "output_type": "stream",
     "text": [
      "1. ADF :  -20.410866551666725\n",
      "2. P-Value :  0.0\n",
      "3. Num Of Lags :  60\n",
      "4. Num Of Observations Used For ADF Regression and Critical Values Calculation : 58828\n",
      "5. Critical Values :\n",
      "\t 1% :  -3.430461164502673\n",
      "\t 5% :  -2.861589132589653\n",
      "\t 10% :  -2.566796151624216\n"
     ]
    }
   ],
   "source": [
    "dftest = adfuller(residual, autolag = 'AIC')\n",
    "\n",
    "print(\"1. ADF : \",dftest[0])\n",
    "print(\"2. P-Value : \", dftest[1])\n",
    "print(\"3. Num Of Lags : \", dftest[2])\n",
    "print(\"4. Num Of Observations Used For ADF Regression and Critical Values Calculation :\", dftest[3])\n",
    "print(\"5. Critical Values :\")\n",
    "for key, val in dftest[4].items():\n",
    "    print(\"\\t\",key, \": \", val)"
   ]
  },
  {
   "cell_type": "markdown",
   "id": "ce053f02-0eac-4cd9-ab27-edf7bf70ffbc",
   "metadata": {},
   "source": [
    "## Analysis of Serial Correlations\n",
    "Below we are also plotting auto-correlation plot for time-series data as well. This plot helps us understand whether present values of time-series are positively correlated, negatively correlated or not related at all with past values.\n",
    "\n",
    "statsmodels library provides ready to use method plot_acf as a part of module statsmodels.graphics.tsaplots"
   ]
  },
  {
   "cell_type": "code",
   "execution_count": 34,
   "id": "63e53e4c-6bca-4dde-87c0-7a4fa287b2cf",
   "metadata": {},
   "outputs": [
    {
     "data": {
      "image/png": "[encoded data removed]",
      "text/plain": [
       "<Figure size 432x288 with 1 Axes>"
      ]
     },
     "metadata": {
      "needs_background": "light"
     },
     "output_type": "display_data"
    }
   ],
   "source": [
    "plot_acf(residual, lags=100)\n",
    "plt.show()"
   ]
  },
  {
   "cell_type": "markdown",
   "id": "3e8a60d8-48cd-4564-8a66-ff09a6221c42",
   "metadata": {},
   "source": [
    "Above we can see significant serial correlation. Since the auto-correlation funtion does not seem to vanish after a finite number of lags, we do not try and fit a moving average model."
   ]
  },
  {
   "cell_type": "markdown",
   "id": "5ce3bc10-d7ee-4d50-bf74-0f8f5710ae20",
   "metadata": {},
   "source": [
    "### Determine AR order by use of PACF & AIC Criterion\n",
    "PACF is a partial auto-correlation function. Basically instead of finding correlations of present values with lags like ACF, it finds correlation of the residuals.\n",
    "\n",
    "These residuals remain after removing the effects which are already explained by the earlier lag(s) with the next lag value. i.e. We remove already found variations before we find the next correlation.Above we can see significant serial correlation. Since the auto-correlation funtion does not seem to vanish after a finite number of lags, we do not try and fit a moving average model."
   ]
  },
  {
   "cell_type": "code",
   "execution_count": 35,
   "id": "089d451c-b19a-4b8b-bbcf-c439dc3c0e98",
   "metadata": {},
   "outputs": [
    {
     "data": {
      "image/png": "[encoded data removed]",
      "text/plain": [
       "<Figure size 432x288 with 1 Axes>"
      ]
     },
     "metadata": {
      "needs_background": "light"
     },
     "output_type": "display_data"
    }
   ],
   "source": [
    "plot_pacf(residual, lags=40)\n",
    "plt.show()"
   ]
  },
  {
   "cell_type": "markdown",
   "id": "a11d1a4e-1c88-4295-823a-f7153eb26087",
   "metadata": {},
   "source": [
    "### Akaike Information Criterion (AIC)\n",
    "AIC is a single number score that can be used to determine which of multiple models is most likely to be the best model for a given dataset. \n",
    "AIC works by evaluating the model’s fit on the training data, and adding a penalty term for the complexity of the model.\n",
    "\n",
    "The desired result is to find the lowest possible AIC, which indicates the best balance of model fit with generalizability. This serves the eventual goal of maximizing fit on out-of-sample data."
   ]
  },
  {
   "cell_type": "code",
   "execution_count": 39,
   "id": "125402be-0d0b-4eb4-9cfa-8ec1cba79cf5",
   "metadata": {},
   "outputs": [],
   "source": [
    "residuals = residual.copy(deep=True)\n",
    "residuals.index = pd.DatetimeIndex(residuals.index).to_period('D')"
   ]
  },
  {
   "cell_type": "code",
   "execution_count": 40,
   "id": "eb5a8673-55e3-4582-8985-a9e1347dc657",
   "metadata": {},
   "outputs": [
    {
     "name": "stderr",
     "output_type": "stream",
     "text": [
      "C:\\Users\\cozyc\\anaconda3\\lib\\site-packages\\statsmodels\\tsa\\ar_model.py:2108: FutureWarning: old_names will be removed after the 0.14 release. You should stop setting this parameter and use the new names.\n",
      "  full_mod = AutoReg(\n",
      "C:\\Users\\cozyc\\anaconda3\\lib\\site-packages\\statsmodels\\tsa\\ar_model.py:2185: FutureWarning: old_names will be removed after the 0.14 release. You should stop setting this parameter and use the new names.\n",
      "  mod = AutoReg(\n"
     ]
    },
    {
     "data": {
      "image/png": "[encoded data removed]",
      "text/plain": [
       "<Figure size 432x288 with 1 Axes>"
      ]
     },
     "metadata": {
      "needs_background": "light"
     },
     "output_type": "display_data"
    }
   ],
   "source": [
    "mod = ar_select_order(residuals, maxlag=40, ic='aic', old_names=True)\n",
    "\n",
    "aic = []\n",
    "for key, val in mod.aic.items():\n",
    "    if key != 0:\n",
    "        aic.append((key[-1], val))\n",
    "\n",
    "aic.sort()\n",
    "x,y = [x for x,y in aic],[y for x,y in aic]\n",
    "\n",
    "plt.scatter(x, y)\n",
    "plt.plot([0,40],[y[15],y[15]], 'tab:orange')\n",
    "plt.text(3,y[15]+0.002, '{0}'.format(round(y[15],3)),color='tab:orange')\n",
    "plt.plot([0,40],[y[20],y[20]], 'k--')\n",
    "plt.text(3,y[20]-0.004, '{0}'.format(round(y[20],3)))\n",
    "plt.title(\"AIC Criterion\")\n",
    "plt.xlabel(\"Lags in AR Model\")\n",
    "plt.ylabel(\"AIC\")\n",
    "plt.show()"
   ]
  },
  {
   "cell_type": "markdown",
   "id": "444114b7-5a31-4e4d-b144-78b243b9df03",
   "metadata": {},
   "source": [
    "### Fitting a AR with lags=15\n",
    "Interpreting the results with statsmodels .summary()\n"
   ]
  },
  {
   "cell_type": "code",
   "execution_count": 41,
   "id": "0735fce4-0145-443b-aa2e-31693c7aae13",
   "metadata": {},
   "outputs": [
    {
     "name": "stdout",
     "output_type": "stream",
     "text": [
      "                            AutoReg Model Results                             \n",
      "==============================================================================\n",
      "Dep. Variable:                  resid   No. Observations:                58889\n",
      "Model:                    AutoReg(15)   Log Likelihood             -120691.441\n",
      "Method:               Conditional MLE   S.D. of innovations              1.880\n",
      "Date:                Thu, 22 Feb 2024   AIC                         241414.882\n",
      "Time:                        18:59:38   BIC                         241558.612\n",
      "Sample:                    01-16-1859   HQIC                        241459.565\n",
      "                         - 08-30-2020                                         \n",
      "==============================================================================\n",
      "                 coef    std err          z      P>|z|      [0.025      0.975]\n",
      "------------------------------------------------------------------------------\n",
      "resid.L1       0.6156      0.004    149.495      0.000       0.608       0.624\n",
      "resid.L2      -0.0520      0.005    -10.749      0.000      -0.061      -0.043\n",
      "resid.L3       0.0367      0.005      7.585      0.000       0.027       0.046\n",
      "resid.L4       0.0304      0.005      6.276      0.000       0.021       0.040\n",
      "resid.L5       0.0225      0.005      4.646      0.000       0.013       0.032\n",
      "resid.L6       0.0327      0.005      6.758      0.000       0.023       0.042\n",
      "resid.L7       0.0317      0.005      6.540      0.000       0.022       0.041\n",
      "resid.L8       0.0189      0.005      3.907      0.000       0.009       0.028\n",
      "resid.L9       0.0323      0.005      6.674      0.000       0.023       0.042\n",
      "resid.L10      0.0204      0.005      4.222      0.000       0.011       0.030\n",
      "resid.L11      0.0257      0.005      5.302      0.000       0.016       0.035\n",
      "resid.L12      0.0196      0.005      4.043      0.000       0.010       0.029\n",
      "resid.L13      0.0222      0.005      4.590      0.000       0.013       0.032\n",
      "resid.L14      0.0181      0.005      3.742      0.000       0.009       0.028\n",
      "resid.L15      0.0402      0.004      9.760      0.000       0.032       0.048\n",
      "                                    Roots                                     \n",
      "==============================================================================\n",
      "                   Real          Imaginary           Modulus         Frequency\n",
      "------------------------------------------------------------------------------\n",
      "AR.1             1.0217           -0.0000j            1.0217           -0.0000\n",
      "AR.2             1.0567           -0.4955j            1.1671           -0.0698\n",
      "AR.3             1.0567           +0.4955j            1.1671            0.0698\n",
      "AR.4             0.8196           -0.8907j            1.2104           -0.1316\n",
      "AR.5             0.8196           +0.8907j            1.2104            0.1316\n",
      "AR.6             0.4149           -1.1736j            1.2448           -0.1959\n",
      "AR.7             0.4149           +1.1736j            1.2448            0.1959\n",
      "AR.8            -0.0992           -1.2689j            1.2728           -0.2624\n",
      "AR.9            -0.0992           +1.2689j            1.2728            0.2624\n",
      "AR.10           -1.2689           -0.2912j            1.3019           -0.4641\n",
      "AR.11           -1.2689           +0.2912j            1.3019            0.4641\n",
      "AR.12           -1.0493           -0.7914j            1.3143           -0.3972\n",
      "AR.13           -1.0493           +0.7914j            1.3143            0.3972\n",
      "AR.14           -0.6097           -1.1353j            1.2886           -0.3284\n",
      "AR.15           -0.6097           +1.1353j            1.2886            0.3284\n",
      "------------------------------------------------------------------------------\n"
     ]
    },
    {
     "name": "stderr",
     "output_type": "stream",
     "text": [
      "<ipython-input-41-bd8c998a6800>:1: FutureWarning: old_names will be removed after the 0.14 release. You should stop setting this parameter and use the new names.\n",
      "  model = AutoReg(residuals, lags=15, old_names=True,trend='n')\n"
     ]
    }
   ],
   "source": [
    "model = AutoReg(residuals, lags=15, old_names=True,trend='n')\n",
    "model_fit  = model.fit()\n",
    "coef = model_fit.params\n",
    "res = model_fit.resid\n",
    "res.index = res.index.to_timestamp()\n",
    "print(model_fit.summary())"
   ]
  },
  {
   "cell_type": "markdown",
   "id": "ffba2191-0c39-4f34-91e0-85b38e660ffa",
   "metadata": {},
   "source": [
    "Null hypothesis: there is no relationship with autoregressive term. i.e. coefficient = 0 -> P>\\|z|"
   ]
  },
  {
   "cell_type": "code",
   "execution_count": 42,
   "id": "a6f316e5-9758-41c3-8d4a-62a75d7a5015",
   "metadata": {},
   "outputs": [
    {
     "data": {
      "image/png": "[encoded data removed]",
      "text/plain": [
       "<Figure size 576x432 with 4 Axes>"
      ]
     },
     "metadata": {
      "needs_background": "light"
     },
     "output_type": "display_data"
    }
   ],
   "source": [
    "fig, axs = plt.subplots(2,2, figsize=(8,6))\n",
    "fig.suptitle('Residuals after AR(15) model')\n",
    "axs[0,0].plot(res)\n",
    "axs[1,0].plot(res[-200:])\n",
    "plot_acf(res, lags=20, ax=axs[0,1])\n",
    "plot_pacf(res, lags=20, ax=axs[1,1])\n",
    "plt.show()"
   ]
  },
  {
   "cell_type": "markdown",
   "id": "594d5f39-d889-4900-8d86-42e301e2d108",
   "metadata": {},
   "source": [
    "The auto-correlation function of the raw residuals of the AR(15) model fitted to the remainder component of the daily temperature in Sydney, looks like white noise now! The serial correlation in the data appears to have been captured by the AR(15) model."
   ]
  },
  {
   "cell_type": "code",
   "execution_count": 43,
   "id": "2a6079f6-24d7-4809-9073-49fdc136617f",
   "metadata": {},
   "outputs": [
    {
     "data": {
      "image/png": "[encoded data removed]",
      "text/plain": [
       "<Figure size 432x288 with 1 Axes>"
      ]
     },
     "metadata": {
      "needs_background": "light"
     },
     "output_type": "display_data"
    }
   ],
   "source": [
    "from scipy.stats import norm\n",
    "qqplot(res, marker='x', dist=norm, loc=0, scale=np.std(res), line='45')\n",
    "plt.show()"
   ]
  }
 ],
 "metadata": {
  "kernelspec": {
   "display_name": "Python 3",
   "language": "python",
   "name": "python3"
  },
  "language_info": {
   "codemirror_mode": {
    "name": "ipython",
    "version": 3
   },
   "file_extension": ".py",
   "mimetype": "text/x-python",
   "name": "python",
   "nbconvert_exporter": "python",
   "pygments_lexer": "ipython3",
   "version": "3.8.8"
  }
 },
 "nbformat": 4,
 "nbformat_minor": 5
}
