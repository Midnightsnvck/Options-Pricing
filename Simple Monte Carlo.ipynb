{
 "cells": [
  {
   "cell_type": "markdown",
   "id": "9753f8cd-28da-4385-a3e9-524be4b15011",
   "metadata": {},
   "source": [
    "# Simple Monte Carlo"
   ]
  },
  {
   "cell_type": "code",
   "execution_count": 1,
   "id": "7d45e1d9-409a-405a-aca9-81d337cd084e",
   "metadata": {},
   "outputs": [],
   "source": [
    "#Step 1: Monte Carlo Sampling\n",
    "    #(1) import NumPy for dealing with arrays; \n",
    "    #(2) define number of Monte Carlo simulations\n",
    "    #(3) generate a series of random durations for activities 'A' and 'B'\n",
    "    #(4) create a random series of random durations by summing 'A' and 'B'\n",
    "import numpy as np\n",
    "sims = 1000000\n",
    "\n",
    "A = np.random.uniform(1, 5, sims)\n",
    "B = np.random.uniform(2, 6, sims)\n",
    "\n",
    "duration = A + B"
   ]
  },
  {
   "cell_type": "code",
   "execution_count": 2,
   "id": "00159cd0-aa1d-4e02-8059-bf47b78df238",
   "metadata": {},
   "outputs": [
    {
     "data": {
      "image/png": "[encoded data removed]",
      "text/plain": [
       "<Figure size 432x288 with 1 Axes>"
      ]
     },
     "metadata": {
      "needs_background": "light"
     },
     "output_type": "display_data"
    },
    {
     "name": "stdout",
     "output_type": "stream",
     "text": [
      "0.125468\n"
     ]
    }
   ],
   "source": [
    "#Step 2: Visualize Results\n",
    "    #(1) Import matplotlib to visualize results\n",
    "    #(2) Initialize a figure that will include (a) a histogram with approximate probability densities; and (b) a vertical redline at the value 9\n",
    "    #(3) Show the plot\n",
    "    #(4) Print the number of simulations in which duration exceeds 9 hours, normalized by the total number of simulations (i.e., 'sims')\n",
    "import matplotlib.pyplot as plt\n",
    "plt.figure()\n",
    "plt.hist(duration,density = True, edgecolor='white')\n",
    "plt.axvline(9, color='r')\n",
    "plt.show()\n",
    "print((duration > 9).sum()/sims)"
   ]
  },
  {
   "cell_type": "code",
   "execution_count": null,
   "id": "36fc3245-9470-4441-85c4-daa633424313",
   "metadata": {},
   "outputs": [],
   "source": []
  },
  {
   "cell_type": "code",
   "execution_count": null,
   "id": "f413e56e-d066-40ac-aaed-5e98dcdad2aa",
   "metadata": {},
   "outputs": [],
   "source": []
  }
 ],
 "metadata": {
  "kernelspec": {
   "display_name": "Python 3",
   "language": "python",
   "name": "python3"
  },
  "language_info": {
   "codemirror_mode": {
    "name": "ipython",
    "version": 3
   },
   "file_extension": ".py",
   "mimetype": "text/x-python",
   "name": "python",
   "nbconvert_exporter": "python",
   "pygments_lexer": "ipython3",
   "version": "3.8.8"
  }
 },
 "nbformat": 4,
 "nbformat_minor": 5
}
