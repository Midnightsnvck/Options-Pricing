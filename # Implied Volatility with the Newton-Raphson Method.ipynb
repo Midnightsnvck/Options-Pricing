{
 "cells": [
  {
   "cell_type": "markdown",
   "id": "4903f516-dc5e-4878-80c1-e793fd3fe684",
   "metadata": {},
   "source": [
    "# Implied Volatility with the Newton-Raphson Method\n",
    "\n",
    "Youtube:https://www.youtube.com/watch?v=mPgVeazeq5U\n",
    "\n",
    "Github: https://github.com/TheQuantPy/youtube-tutorials/blob/main/2021/001%20Jan-Mar/2021-03-29%20Option%20Implied%20Volatility%20using%20Newton_s%20Method%20in%20Python.ipynb"
   ]
  },
  {
   "cell_type": "markdown",
   "id": "7d7fb360-1e8f-4297-953b-28e883a9888c",
   "metadata": {},
   "source": [
    "Calculate imploed volatility of an option using Newton-Raphson Method of root finding"
   ]
  },
  {
   "cell_type": "code",
   "execution_count": 52,
   "id": "25574e0a-2cee-4b57-8412-a6a513368045",
   "metadata": {},
   "outputs": [],
   "source": [
    "from py_vollib.black_scholes import black_scholes as bs\n",
    "from py_vollib.black_scholes.greeks.analytical import vega\n",
    "\n",
    "import matplotlib.pyplot as plt\n",
    "import matplotlib.animation as animation\n",
    "import numpy as np\n",
    "\n",
    "from IPython.display import HTML, Image # For GIF\n",
    "from matplotlib import rc\n",
    "rc('animation', html='jshtml')"
   ]
  },
  {
   "cell_type": "code",
   "execution_count": 59,
   "id": "06061bbd-ed46-42e3-bcac-7d4b3e77c673",
   "metadata": {},
   "outputs": [],
   "source": [
    "def implied_vol(S0, K, T, r, market_price, flag='c', tol=0.00001):\n",
    "    \"\"\"calculating the implied volatility of an European option\n",
    "        S0: stock price\n",
    "        K: strike price\n",
    "        T: time to maturity\n",
    "        r: risk-free rate\n",
    "        market_price: option price in market\n",
    "        tol: user_choosen_tolerance\n",
    "    \"\"\"\n",
    "    max_iter = 200 #max no. of iterations\n",
    "    vol_old = 0.3 #initial guess\n",
    "    \n",
    "    for k in range(max_iter):\n",
    "        bs_price = bs(flag, S0, K, T, r, vol_old)\n",
    "        Cprime = vega(flag, S0, K, T, r, vol_old)*100\n",
    "        C = bs_price - market_price\n",
    "        \n",
    "        vol_new = vol_old - C/Cprime\n",
    "        bs_new = bs(flag, S0, K, T, r, vol_new)\n",
    "        if (abs(vol_old-vol_new) < tol or abs(bs_new-market_price) < tol):\n",
    "            break\n",
    "            \n",
    "        vol_old = vol_new\n",
    "        \n",
    "    implied_vol = vol_new\n",
    "    return implied_vol"
   ]
  },
  {
   "cell_type": "markdown",
   "id": "752930e0-ccef-4f46-b442-c04639a5b81c",
   "metadata": {},
   "source": [
    "# Calculating an example option's IV"
   ]
  },
  {
   "cell_type": "code",
   "execution_count": 63,
   "id": "1ebe2ede-2b5a-4a4a-ac0e-7d1898c3fa64",
   "metadata": {},
   "outputs": [
    {
     "name": "stdout",
     "output_type": "stream",
     "text": [
      "Implied Volatility is :  54.0 %\n"
     ]
    }
   ],
   "source": [
    "S0, K, T, r = 30, 28, 0.2, 0.025\n",
    "market_price = 3.97\n",
    "\n",
    "#define function\n",
    "implied_vol_est = implied_vol(S0, K, T, r, market_price, flag='c')\n",
    "# original: print(implied_vol(S0, K, T, r, market_price)*100)\n",
    "print(\"Implied Volatility is : \", round(implied_vol_est,2)*100, \"%\") # new"
   ]
  },
  {
   "cell_type": "markdown",
   "id": "354a3b7e-2b8f-4a09-a013-b56b851b9511",
   "metadata": {},
   "source": [
    "# Plotting the calculation of IV as Newton-Raphson Method progresses"
   ]
  },
  {
   "cell_type": "code",
   "execution_count": 55,
   "id": "480c54bf-b0de-4e8f-ba7a-a875f786470d",
   "metadata": {},
   "outputs": [],
   "source": [
    "def implied_vol(S0, K, T, r, market_price, flag='c', tol=0.00001):\n",
    "    \"\"\"calculating the implied volatility of an European option\n",
    "        S0: stock price\n",
    "        K: strike price\n",
    "        T: time to maturity\n",
    "        r: risk-free rate\n",
    "        market_price: option price in market\n",
    "        tol: user_choosen_tolerance\n",
    "    \"\"\"\n",
    "    max_iter = 200 #max no. of iterations\n",
    "    vol_old = 0.3 #initial guess\n",
    "    \n",
    "    x_vals = []\n",
    "    y_vals = []\n",
    "    \n",
    "    for k in range(max_iter):\n",
    "        bs_price = bs(flag, S0, K, T, r, vol_old)\n",
    "        Cprime = vega(flag, S0, K, T, r, vol_old)*100\n",
    "        C = bs_price - market_price\n",
    "        \n",
    "        vol_new = vol_old - C/Cprime\n",
    "        \n",
    "        #append 1 - move up\n",
    "        x_vals.append([vol_old*100,vol_old*100])\n",
    "        y_vals.append([0,bs_price])\n",
    "        bs_new = bs(flag, S0, K, T, r, vol_new)\n",
    "        \n",
    "        #append 2 - take step\n",
    "        x_vals.append([vol_old*100,vol_old*100])\n",
    "        y_vals.append([bs_price,0])\n",
    "        \n",
    "        if (abs(vol_old-vol_new) < tol or abs(bs_new-market_price) < tol):\n",
    "            break\n",
    "            \n",
    "        vol_old = vol_new\n",
    "        \n",
    "    implied_vol = vol_new\n",
    "    return implied_vol, x_vals, y_vals"
   ]
  },
  {
   "cell_type": "code",
   "execution_count": 56,
   "id": "1ff5c5e5-dfae-4b1f-96e4-df4920f6cd91",
   "metadata": {},
   "outputs": [
    {
     "ename": "RuntimeError",
     "evalue": "Requested MovieWriter (ffmpeg) not available",
     "output_type": "error",
     "traceback": [
      "\u001b[1;31m---------------------------------------------------------------------------\u001b[0m",
      "\u001b[1;31mRuntimeError\u001b[0m                              Traceback (most recent call last)",
      "\u001b[1;32m<ipython-input-56-e2a617b04721>\u001b[0m in \u001b[0;36m<module>\u001b[1;34m\u001b[0m\n\u001b[0;32m     50\u001b[0m \u001b[1;31m# plt.show()\u001b[0m\u001b[1;33m\u001b[0m\u001b[1;33m\u001b[0m\u001b[1;33m\u001b[0m\u001b[0m\n\u001b[0;32m     51\u001b[0m \u001b[1;33m\u001b[0m\u001b[0m\n\u001b[1;32m---> 52\u001b[1;33m \u001b[0mHTML\u001b[0m\u001b[1;33m(\u001b[0m\u001b[0manim\u001b[0m\u001b[1;33m.\u001b[0m\u001b[0mto_html5_video\u001b[0m\u001b[1;33m(\u001b[0m\u001b[1;33m)\u001b[0m\u001b[1;33m)\u001b[0m\u001b[1;33m\u001b[0m\u001b[1;33m\u001b[0m\u001b[0m\n\u001b[0m",
      "\u001b[1;32m~\\anaconda3\\lib\\site-packages\\matplotlib\\animation.py\u001b[0m in \u001b[0;36mto_html5_video\u001b[1;34m(self, embed_limit)\u001b[0m\n\u001b[0;32m   1330\u001b[0m                 \u001b[1;31m# We create a writer manually so that we can get the\u001b[0m\u001b[1;33m\u001b[0m\u001b[1;33m\u001b[0m\u001b[1;33m\u001b[0m\u001b[0m\n\u001b[0;32m   1331\u001b[0m                 \u001b[1;31m# appropriate size for the tag\u001b[0m\u001b[1;33m\u001b[0m\u001b[1;33m\u001b[0m\u001b[1;33m\u001b[0m\u001b[0m\n\u001b[1;32m-> 1332\u001b[1;33m                 \u001b[0mWriter\u001b[0m \u001b[1;33m=\u001b[0m \u001b[0mwriters\u001b[0m\u001b[1;33m[\u001b[0m\u001b[0mmpl\u001b[0m\u001b[1;33m.\u001b[0m\u001b[0mrcParams\u001b[0m\u001b[1;33m[\u001b[0m\u001b[1;34m'animation.writer'\u001b[0m\u001b[1;33m]\u001b[0m\u001b[1;33m]\u001b[0m\u001b[1;33m\u001b[0m\u001b[1;33m\u001b[0m\u001b[0m\n\u001b[0m\u001b[0;32m   1333\u001b[0m                 writer = Writer(codec='h264',\n\u001b[0;32m   1334\u001b[0m                                 \u001b[0mbitrate\u001b[0m\u001b[1;33m=\u001b[0m\u001b[0mmpl\u001b[0m\u001b[1;33m.\u001b[0m\u001b[0mrcParams\u001b[0m\u001b[1;33m[\u001b[0m\u001b[1;34m'animation.bitrate'\u001b[0m\u001b[1;33m]\u001b[0m\u001b[1;33m,\u001b[0m\u001b[1;33m\u001b[0m\u001b[1;33m\u001b[0m\u001b[0m\n",
      "\u001b[1;32m~\\anaconda3\\lib\\site-packages\\matplotlib\\animation.py\u001b[0m in \u001b[0;36m__getitem__\u001b[1;34m(self, name)\u001b[0m\n\u001b[0;32m    164\u001b[0m         \u001b[1;32mif\u001b[0m \u001b[0mself\u001b[0m\u001b[1;33m.\u001b[0m\u001b[0mis_available\u001b[0m\u001b[1;33m(\u001b[0m\u001b[0mname\u001b[0m\u001b[1;33m)\u001b[0m\u001b[1;33m:\u001b[0m\u001b[1;33m\u001b[0m\u001b[1;33m\u001b[0m\u001b[0m\n\u001b[0;32m    165\u001b[0m             \u001b[1;32mreturn\u001b[0m \u001b[0mself\u001b[0m\u001b[1;33m.\u001b[0m\u001b[0m_registered\u001b[0m\u001b[1;33m[\u001b[0m\u001b[0mname\u001b[0m\u001b[1;33m]\u001b[0m\u001b[1;33m\u001b[0m\u001b[1;33m\u001b[0m\u001b[0m\n\u001b[1;32m--> 166\u001b[1;33m         \u001b[1;32mraise\u001b[0m \u001b[0mRuntimeError\u001b[0m\u001b[1;33m(\u001b[0m\u001b[1;34mf\"Requested MovieWriter ({name}) not available\"\u001b[0m\u001b[1;33m)\u001b[0m\u001b[1;33m\u001b[0m\u001b[1;33m\u001b[0m\u001b[0m\n\u001b[0m\u001b[0;32m    167\u001b[0m \u001b[1;33m\u001b[0m\u001b[0m\n\u001b[0;32m    168\u001b[0m \u001b[1;33m\u001b[0m\u001b[0m\n",
      "\u001b[1;31mRuntimeError\u001b[0m: Requested MovieWriter (ffmpeg) not available"
     ]
    },
    {
     "data": {
      "image/png": "[encoded data removed]",
      "text/plain": [
       "<Figure size 432x288 with 1 Axes>"
      ]
     },
     "metadata": {
      "needs_background": "light"
     },
     "output_type": "display_data"
    }
   ],
   "source": [
    "S0, K, T, r, sigma = 30, 28, 0.2, 0.025, 0.3\n",
    "prices, vols = [], []\n",
    "for sigma in range(1,125):\n",
    "    # print(bs('c', S0, K, T, r, sigma/100))\n",
    "    # print(sigma)\n",
    "    prices.append( bs('c', S0, K, T, r, sigma/100) )\n",
    "    vols.append( sigma )\n",
    "\n",
    "# print(prices)\n",
    "\n",
    "market_price = 3.9790765403377035\n",
    "implied_vol, x_vals, y_vals = implied_vol(S0, K, T, r, market_price, flag= 'c')\n",
    "\n",
    "fig, ax = plt.subplots()\n",
    "plt.title('Newton-Raphson Method for Option Implied Volatility')\n",
    "plt.ylabel('Call Price ($)')\n",
    "plt.xlabel('Implied Volatility (%)')\n",
    "xdata, ydata = [], []\n",
    "y1, = ax.plot(vols, prices, label = 'Black Scholes Price')\n",
    "y3, = ax.plot([54], [market_price], 'bo', label = 'Market Price')\n",
    "y2, = ax.plot([], [], 'r--')\n",
    "y4, = ax.plot([], [], 'ro', label = 'Calc. Price')\n",
    "\n",
    "y5, = ax.plot([], [], 'go', label = 'Calc. Implied Vol')\n",
    "y6, = ax.plot([], [], 'g--')\n",
    "\n",
    "# print(x_vals)\n",
    "# print(y_vals)\n",
    "\n",
    "def init():\n",
    "    ax.set_xlim(0, 125)\n",
    "    ax.set_ylim(0, max(prices))\n",
    "    return y2, y4\n",
    "\n",
    "def update(frame):\n",
    "    xdata.append(x_vals[frame])\n",
    "    ydata.append(y_vals[frame])\n",
    "    if (frame % 2) == 0:\n",
    "        y2.set_data(x_vals[frame], y_vals[frame])\n",
    "        y4.set_data(x_vals[frame][1], y_vals[frame][1])\n",
    "        return y2, y4\n",
    "    else:\n",
    "        y6.set_data(x_vals[frame], y_vals[frame])\n",
    "        y5.set_data(x_vals[frame][1], y_vals[frame][1])\n",
    "        return y2, y4\n",
    "\n",
    "anim = animation.FuncAnimation(fig, update, frames=len(x_vals),\n",
    "                    init_func=init, interval=750, repeat=True, save_count = 0, blit=False)\n",
    "ax.legend(loc='upper left')\n",
    "# plt.show()\n",
    "\n",
    "HTML(anim.to_html5_video())"
   ]
  },
  {
   "cell_type": "code",
   "execution_count": null,
   "id": "15a4e9ce-185e-42e2-b5fb-a7c1c539df75",
   "metadata": {},
   "outputs": [],
   "source": []
  },
  {
   "cell_type": "code",
   "execution_count": null,
   "id": "7cbe94ab-5811-4ec3-83a9-224e599fc441",
   "metadata": {},
   "outputs": [],
   "source": []
  },
  {
   "cell_type": "code",
   "execution_count": null,
   "id": "b393a284-fd56-4fe3-aa52-17d434c0c6f0",
   "metadata": {},
   "outputs": [],
   "source": []
  },
  {
   "cell_type": "code",
   "execution_count": null,
   "id": "d3b4b934-5c18-473e-aa5f-d062384322a9",
   "metadata": {},
   "outputs": [],
   "source": []
  },
  {
   "cell_type": "code",
   "execution_count": null,
   "id": "ec42890f-cd09-4248-970d-fd67e2d2dad6",
   "metadata": {},
   "outputs": [],
   "source": []
  }
 ],
 "metadata": {
  "kernelspec": {
   "display_name": "Python 3",
   "language": "python",
   "name": "python3"
  },
  "language_info": {
   "codemirror_mode": {
    "name": "ipython",
    "version": 3
   },
   "file_extension": ".py",
   "mimetype": "text/x-python",
   "name": "python",
   "nbconvert_exporter": "python",
   "pygments_lexer": "ipython3",
   "version": "3.8.8"
  }
 },
 "nbformat": 4,
 "nbformat_minor": 5
}
